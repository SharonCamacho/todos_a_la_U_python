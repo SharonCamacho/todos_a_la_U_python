{
  "nbformat": 4,
  "nbformat_minor": 0,
  "metadata": {
    "colab": {
      "provenance": [],
      "authorship_tag": "ABX9TyMXoFsagrzM2rcuprbmnV60",
      "include_colab_link": true
    },
    "kernelspec": {
      "name": "python3",
      "display_name": "Python 3"
    },
    "language_info": {
      "name": "python"
    }
  },
  "cells": [
    {
      "cell_type": "markdown",
      "metadata": {
        "id": "view-in-github",
        "colab_type": "text"
      },
      "source": [
        "<a href=\"https://colab.research.google.com/github/SharonCamacho/todos_a_la_U_python/blob/main/Clase_05.ipynb\" target=\"_parent\"><img src=\"https://colab.research.google.com/assets/colab-badge.svg\" alt=\"Open In Colab\"/></a>"
      ]
    },
    {
      "cell_type": "markdown",
      "source": [
        "# Diccionarios"
      ],
      "metadata": {
        "id": "OHtXe82VyGGc"
      }
    },
    {
      "cell_type": "code",
      "execution_count": null,
      "metadata": {
        "id": "HfECKskUevRH"
      },
      "outputs": [],
      "source": [
        "#Crea un diccionario\n",
        "diccionario = {\n",
        "    \"Nombre\":\"Sara\",\n",
        "    \"Edad\":27,\n",
        "    \"Documento\":1003882\n",
        "}"
      ]
    },
    {
      "cell_type": "code",
      "source": [
        "#Imprimir un diccionario\n",
        "print(diccionario['Nombre'])\n"
      ],
      "metadata": {
        "colab": {
          "base_uri": "https://localhost:8080/"
        },
        "id": "FJzo7HnCiVcF",
        "outputId": "07966e55-3fc4-4b4b-8b4e-29ded5d79dcd"
      },
      "execution_count": null,
      "outputs": [
        {
          "output_type": "stream",
          "name": "stdout",
          "text": [
            "Sara\n"
          ]
        }
      ]
    },
    {
      "cell_type": "markdown",
      "source": [
        "Acceder a elementos"
      ],
      "metadata": {
        "id": "odhOYwOxymk6"
      }
    },
    {
      "cell_type": "code",
      "source": [
        "#Con la llave\n",
        "print(diccionario['Nombre'])"
      ],
      "metadata": {
        "colab": {
          "base_uri": "https://localhost:8080/"
        },
        "id": "XvY7tbWryoJy",
        "outputId": "845fd882-4015-4248-a739-fb6ed4287a44"
      },
      "execution_count": null,
      "outputs": [
        {
          "output_type": "stream",
          "name": "stdout",
          "text": [
            "Sara\n"
          ]
        }
      ]
    },
    {
      "cell_type": "code",
      "source": [
        "#Con el método\n",
        "print(diccionario.get('Nombre'))"
      ],
      "metadata": {
        "colab": {
          "base_uri": "https://localhost:8080/"
        },
        "id": "eohIu6kSi7Bt",
        "outputId": "e5911933-e5fe-4c4a-9b0e-61b4160d79eb"
      },
      "execution_count": null,
      "outputs": [
        {
          "output_type": "stream",
          "name": "stdout",
          "text": [
            "Sara\n"
          ]
        }
      ]
    },
    {
      "cell_type": "markdown",
      "source": [
        "Modificar o agregar nuevos elementos"
      ],
      "metadata": {
        "id": "j-juzVUsy381"
      }
    },
    {
      "cell_type": "code",
      "source": [
        "#Modificar el nombre\n",
        "diccionario['Nombre'] = \"Valentina\"\n",
        "diccionario"
      ],
      "metadata": {
        "colab": {
          "base_uri": "https://localhost:8080/"
        },
        "id": "Ey3Etgnjy6rh",
        "outputId": "fe3f6a4c-6f82-49fd-b0b5-35ebd81aeea6"
      },
      "execution_count": null,
      "outputs": [
        {
          "output_type": "execute_result",
          "data": {
            "text/plain": [
              "{'Nombre': 'Valentina', 'Edad': 27, 'Documento': 1003882}"
            ]
          },
          "metadata": {},
          "execution_count": 67
        }
      ]
    },
    {
      "cell_type": "markdown",
      "source": [
        "Iterar las llaves de un diccionario, es decir mostrar las llaves del diccionario"
      ],
      "metadata": {
        "id": "6aWOD2yGzDqS"
      }
    },
    {
      "cell_type": "code",
      "source": [
        "for key in diccionario:\n",
        "  print(key)"
      ],
      "metadata": {
        "colab": {
          "base_uri": "https://localhost:8080/"
        },
        "id": "YjMXlsA7zH-a",
        "outputId": "f9479887-2454-4b36-8e3a-57e8dfebc108"
      },
      "execution_count": null,
      "outputs": [
        {
          "output_type": "stream",
          "name": "stdout",
          "text": [
            "Nombre\n",
            "Edad\n",
            "Documento\n"
          ]
        }
      ]
    },
    {
      "cell_type": "markdown",
      "source": [
        "Iterar los valores del diccionario"
      ],
      "metadata": {
        "id": "kjeZ1khGzULa"
      }
    },
    {
      "cell_type": "code",
      "source": [
        "for key in diccionario:\n",
        "  print(diccionario[key])"
      ],
      "metadata": {
        "colab": {
          "base_uri": "https://localhost:8080/"
        },
        "id": "YxbvU0XPzWJO",
        "outputId": "4cb7383b-be25-4a90-99fe-762c834b2627"
      },
      "execution_count": null,
      "outputs": [
        {
          "output_type": "stream",
          "name": "stdout",
          "text": [
            "Valentina\n",
            "27\n",
            "1003882\n"
          ]
        }
      ]
    },
    {
      "cell_type": "markdown",
      "source": [
        "Iterar key y value"
      ],
      "metadata": {
        "id": "cnaxdhn_zeMo"
      }
    },
    {
      "cell_type": "code",
      "source": [
        "diccionario.items()"
      ],
      "metadata": {
        "colab": {
          "base_uri": "https://localhost:8080/"
        },
        "id": "zk7gJGg-jTFm",
        "outputId": "71f8d749-6987-4051-c84f-59ab36582dfe"
      },
      "execution_count": null,
      "outputs": [
        {
          "output_type": "execute_result",
          "data": {
            "text/plain": [
              "dict_items([('Nombre', 'Valentina'), ('Edad', 27), ('Documento', 1003882)])"
            ]
          },
          "metadata": {},
          "execution_count": 69
        }
      ]
    },
    {
      "cell_type": "code",
      "source": [
        "for key, value in diccionario.items():\n",
        "  print(key,value)"
      ],
      "metadata": {
        "colab": {
          "base_uri": "https://localhost:8080/"
        },
        "id": "DfMEEPx4zgNa",
        "outputId": "e7c3ef85-deb4-478e-9127-c734a5b4234b"
      },
      "execution_count": null,
      "outputs": [
        {
          "output_type": "stream",
          "name": "stdout",
          "text": [
            "Nombre Valentina\n",
            "Edad 27\n",
            "Documento 1003882\n"
          ]
        }
      ]
    },
    {
      "cell_type": "markdown",
      "source": [
        "Diccionarios anidados"
      ],
      "metadata": {
        "id": "UDED2Kn1zyWp"
      }
    },
    {
      "cell_type": "code",
      "source": [
        "estudiante1 = {'Nombre':'Maria', 'apellido':'Gomez', 'edad':24}\n",
        "estudiante2 = {'Nombre':'Dario', 'apellido':'Ospitia', 'edad':20}\n",
        "\n",
        "grupo_estudiantes = {\n",
        "    1: estudiante1,\n",
        "    2: estudiante2\n",
        "}"
      ],
      "metadata": {
        "id": "UMc14mhHz1f3"
      },
      "execution_count": null,
      "outputs": []
    },
    {
      "cell_type": "code",
      "source": [
        "grupo_estudiantes"
      ],
      "metadata": {
        "colab": {
          "base_uri": "https://localhost:8080/"
        },
        "id": "Cp0Qtzah0PYX",
        "outputId": "77495fd0-3f73-467e-8137-4d4fd6ff6e67"
      },
      "execution_count": null,
      "outputs": [
        {
          "output_type": "execute_result",
          "data": {
            "text/plain": [
              "{1: {'Nombre': 'Maria', 'apellido': 'Gomez', 'edad': 24},\n",
              " 2: {'Nombre': 'Dario', 'apellido': 'Ospitia', 'edad': 20}}"
            ]
          },
          "metadata": {},
          "execution_count": 74
        }
      ]
    },
    {
      "cell_type": "code",
      "source": [
        "for key, value in grupo_estudiantes.items():\n",
        "  for key2, value2 in value.items():\n",
        "    print(key,key2, value2)"
      ],
      "metadata": {
        "colab": {
          "base_uri": "https://localhost:8080/"
        },
        "id": "s_JmUbnBAy28",
        "outputId": "4e22e892-da9a-4803-93c3-167f2a9617b7"
      },
      "execution_count": null,
      "outputs": [
        {
          "output_type": "stream",
          "name": "stdout",
          "text": [
            "1 Nombre Maria\n",
            "1 apellido Gomez\n",
            "1 edad 24\n",
            "2 Nombre Dario\n",
            "2 apellido Ospitia\n",
            "2 edad 20\n"
          ]
        }
      ]
    },
    {
      "cell_type": "markdown",
      "source": [
        "Métodos de los diccionarios"
      ],
      "metadata": {
        "id": "8wu8dGLz0RSU"
      }
    },
    {
      "cell_type": "code",
      "source": [
        "#Clear\n",
        "estudiante2.clear()\n",
        "estudiante2"
      ],
      "metadata": {
        "colab": {
          "base_uri": "https://localhost:8080/"
        },
        "id": "nbxYGkTg0VXA",
        "outputId": "522d2bcf-1265-4d0a-c667-ee90e1013169"
      },
      "execution_count": null,
      "outputs": [
        {
          "output_type": "execute_result",
          "data": {
            "text/plain": [
              "{}"
            ]
          },
          "metadata": {},
          "execution_count": 56
        }
      ]
    },
    {
      "cell_type": "code",
      "source": [
        "#get\n",
        "estudiante1.get('nombre','No existe')\n"
      ],
      "metadata": {
        "colab": {
          "base_uri": "https://localhost:8080/",
          "height": 35
        },
        "id": "Wxi07dqa0g7u",
        "outputId": "bec26b8c-85c9-467d-9af0-04a0081dd226"
      },
      "execution_count": null,
      "outputs": [
        {
          "output_type": "execute_result",
          "data": {
            "text/plain": [
              "'No existe'"
            ],
            "application/vnd.google.colaboratory.intrinsic+json": {
              "type": "string"
            }
          },
          "metadata": {},
          "execution_count": 60
        }
      ]
    },
    {
      "cell_type": "code",
      "source": [
        "estudiante1.get('Nombre')"
      ],
      "metadata": {
        "colab": {
          "base_uri": "https://localhost:8080/",
          "height": 35
        },
        "id": "XZImOmuM0uNy",
        "outputId": "920a0217-b69c-4d4d-b803-1fd2df892956"
      },
      "execution_count": null,
      "outputs": [
        {
          "output_type": "execute_result",
          "data": {
            "text/plain": [
              "'Maria'"
            ],
            "application/vnd.google.colaboratory.intrinsic+json": {
              "type": "string"
            }
          },
          "metadata": {},
          "execution_count": 61
        }
      ]
    },
    {
      "cell_type": "code",
      "source": [
        "#Items\n",
        "diccionario.items()"
      ],
      "metadata": {
        "colab": {
          "base_uri": "https://localhost:8080/"
        },
        "id": "c2SdgQTx04bw",
        "outputId": "d7f47f8f-d546-470a-88bb-83c38a2c9a7e"
      },
      "execution_count": null,
      "outputs": [
        {
          "output_type": "execute_result",
          "data": {
            "text/plain": [
              "dict_items([('Nombre', 'Valentina'), ('Edad', 27), ('Documento', 1003882)])"
            ]
          },
          "metadata": {},
          "execution_count": 62
        }
      ]
    },
    {
      "cell_type": "code",
      "source": [
        "#keys\n",
        "diccionario.keys()"
      ],
      "metadata": {
        "colab": {
          "base_uri": "https://localhost:8080/"
        },
        "id": "7mipsvLJjT2I",
        "outputId": "88538df4-e9d1-4789-bbc8-3b5bbb038555"
      },
      "execution_count": null,
      "outputs": [
        {
          "output_type": "execute_result",
          "data": {
            "text/plain": [
              "dict_keys(['Nombre', 'Edad', 'Documento'])"
            ]
          },
          "metadata": {},
          "execution_count": 63
        }
      ]
    },
    {
      "cell_type": "code",
      "source": [
        "#pop\n",
        "diccionario.pop('Edad')"
      ],
      "metadata": {
        "colab": {
          "base_uri": "https://localhost:8080/"
        },
        "id": "JGAIglk0jYBr",
        "outputId": "cd24379f-a749-4700-af5a-cf5883c2c2d9"
      },
      "execution_count": null,
      "outputs": [
        {
          "output_type": "execute_result",
          "data": {
            "text/plain": [
              "27"
            ]
          },
          "metadata": {},
          "execution_count": 7
        }
      ]
    },
    {
      "cell_type": "code",
      "source": [
        "diccionario"
      ],
      "metadata": {
        "colab": {
          "base_uri": "https://localhost:8080/"
        },
        "id": "FvZ-6gWrj56X",
        "outputId": "111ae7bd-0ccd-4585-d7a9-2bde14022a69"
      },
      "execution_count": null,
      "outputs": [
        {
          "output_type": "execute_result",
          "data": {
            "text/plain": [
              "{'Nombre': 'Sara', 'Documento': 1003882}"
            ]
          },
          "metadata": {},
          "execution_count": 8
        }
      ]
    },
    {
      "cell_type": "code",
      "source": [
        "#popitem\n",
        "diccionario.popitem()"
      ],
      "metadata": {
        "colab": {
          "base_uri": "https://localhost:8080/"
        },
        "id": "9Lg9UaAmj_L5",
        "outputId": "fa476c6b-7756-460c-9675-85aa0984ace7"
      },
      "execution_count": null,
      "outputs": [
        {
          "output_type": "execute_result",
          "data": {
            "text/plain": [
              "('Documento', 1003882)"
            ]
          },
          "metadata": {},
          "execution_count": 13
        }
      ]
    },
    {
      "cell_type": "code",
      "source": [
        "diccionario"
      ],
      "metadata": {
        "colab": {
          "base_uri": "https://localhost:8080/"
        },
        "id": "NvIZK7P2kHyr",
        "outputId": "de8ec075-39cc-40e4-bc61-ce49cd787c94"
      },
      "execution_count": null,
      "outputs": [
        {
          "output_type": "execute_result",
          "data": {
            "text/plain": [
              "{'Nombre': 'Sara', 'Edad': 27}"
            ]
          },
          "metadata": {},
          "execution_count": 14
        }
      ]
    },
    {
      "cell_type": "code",
      "source": [
        "#update\n",
        "diccionario1 = {'a':1,'b':2}\n",
        "diccionario2 = {'a':0, 'd':400}"
      ],
      "metadata": {
        "id": "l0M7mebAkJat"
      },
      "execution_count": null,
      "outputs": []
    },
    {
      "cell_type": "code",
      "source": [
        "diccionario1.update(diccionario2)\n",
        "print(diccionario1)"
      ],
      "metadata": {
        "colab": {
          "base_uri": "https://localhost:8080/"
        },
        "id": "b9CrDlJdk9xm",
        "outputId": "28439d50-e426-40ac-f122-64b2984c596c"
      },
      "execution_count": null,
      "outputs": [
        {
          "output_type": "stream",
          "name": "stdout",
          "text": [
            "{'a': 0, 'b': 2, 'd': 400}\n"
          ]
        }
      ]
    },
    {
      "cell_type": "code",
      "source": [
        "diccionario1"
      ],
      "metadata": {
        "colab": {
          "base_uri": "https://localhost:8080/"
        },
        "id": "s9MaNFh_lD5M",
        "outputId": "3395fa37-460e-44ed-e439-3a548259e13e"
      },
      "execution_count": null,
      "outputs": [
        {
          "output_type": "execute_result",
          "data": {
            "text/plain": [
              "{'a': 0, 'b': 2, 'd': 400}"
            ]
          },
          "metadata": {},
          "execution_count": 18
        }
      ]
    },
    {
      "cell_type": "markdown",
      "source": [
        "# SETs / Conjuntos"
      ],
      "metadata": {
        "id": "JkhA7lAGpGXc"
      }
    },
    {
      "cell_type": "code",
      "source": [
        "conjunto1 = set([5, 4, 6, 8, 8, 1])\n",
        "conjunto1"
      ],
      "metadata": {
        "colab": {
          "base_uri": "https://localhost:8080/"
        },
        "id": "rZKDa9b3lE_S",
        "outputId": "bc9a3f87-04a7-4a61-ba15-531e8bd02833"
      },
      "execution_count": null,
      "outputs": [
        {
          "output_type": "execute_result",
          "data": {
            "text/plain": [
              "{1, 4, 5, 6, 8}"
            ]
          },
          "metadata": {},
          "execution_count": 20
        }
      ]
    },
    {
      "cell_type": "code",
      "source": [
        "conjunto2 = {5, 4, 6, 8, 8, 1}\n",
        "conjunto2"
      ],
      "metadata": {
        "colab": {
          "base_uri": "https://localhost:8080/"
        },
        "id": "zVSGbVRXpSmW",
        "outputId": "4c26063c-22f8-4232-95df-bc1edd631777"
      },
      "execution_count": null,
      "outputs": [
        {
          "output_type": "execute_result",
          "data": {
            "text/plain": [
              "{1, 4, 5, 6, 8}"
            ]
          },
          "metadata": {},
          "execution_count": 21
        }
      ]
    },
    {
      "cell_type": "code",
      "source": [
        "#Recorrer un conjunto\n",
        "conjunto = set([5, 6, 7, 8])\n",
        "for elemento in conjunto:\n",
        "  print(elemento)"
      ],
      "metadata": {
        "colab": {
          "base_uri": "https://localhost:8080/"
        },
        "id": "W5unre2Xpd9M",
        "outputId": "0b812bc1-65b1-4e1d-8ade-d897c90313f0"
      },
      "execution_count": null,
      "outputs": [
        {
          "output_type": "stream",
          "name": "stdout",
          "text": [
            "8\n",
            "5\n",
            "6\n",
            "7\n"
          ]
        }
      ]
    },
    {
      "cell_type": "code",
      "source": [
        "# Longitud de un conjunto\n",
        "conjunto = {1, 2, 2, 3, 4}\n",
        "print(len(conjunto))"
      ],
      "metadata": {
        "colab": {
          "base_uri": "https://localhost:8080/"
        },
        "id": "OUS2Hggjpot2",
        "outputId": "fcadae18-5a8f-4f4f-eaf2-afe3b43d66c8"
      },
      "execution_count": null,
      "outputs": [
        {
          "output_type": "stream",
          "name": "stdout",
          "text": [
            "4\n"
          ]
        }
      ]
    },
    {
      "cell_type": "code",
      "source": [
        "# Determinar si un elemento pertenece a un conjunto\n",
        "conjunto_instrumentos = set(['Guitarra', 'Bajo'])\n",
        "print('Guitarra' in conjunto_instrumentos)"
      ],
      "metadata": {
        "colab": {
          "base_uri": "https://localhost:8080/"
        },
        "id": "SDXnLe6ypx9Q",
        "outputId": "2d2ec940-7412-4f5e-c65f-a28432e7ac5e"
      },
      "execution_count": null,
      "outputs": [
        {
          "output_type": "stream",
          "name": "stdout",
          "text": [
            "True\n"
          ]
        }
      ]
    },
    {
      "cell_type": "markdown",
      "source": [
        "**Operaciones en conjuntos**"
      ],
      "metadata": {
        "id": "ejeZcBLbqWIf"
      }
    },
    {
      "cell_type": "code",
      "source": [
        "x1 = {'foo','bar','baz'}\n",
        "x2 = {'baz', 'qux', 'quux'}"
      ],
      "metadata": {
        "id": "078lfq41qT07"
      },
      "execution_count": null,
      "outputs": []
    },
    {
      "cell_type": "markdown",
      "source": [
        "union"
      ],
      "metadata": {
        "id": "RbkOzM8WrMx3"
      }
    },
    {
      "cell_type": "code",
      "source": [
        "x1.union(x2)"
      ],
      "metadata": {
        "colab": {
          "base_uri": "https://localhost:8080/"
        },
        "id": "jR5KgTboq5n5",
        "outputId": "da2179d9-459f-43b4-d822-8a8d253d1aad"
      },
      "execution_count": null,
      "outputs": [
        {
          "output_type": "execute_result",
          "data": {
            "text/plain": [
              "{'bar', 'baz', 'foo', 'quux', 'qux'}"
            ]
          },
          "metadata": {},
          "execution_count": 29
        }
      ]
    },
    {
      "cell_type": "code",
      "source": [
        "x1 | x2"
      ],
      "metadata": {
        "colab": {
          "base_uri": "https://localhost:8080/"
        },
        "id": "uvHTGJP0q8ml",
        "outputId": "a774dcdb-44f6-4d7f-c990-2605b07e811f"
      },
      "execution_count": null,
      "outputs": [
        {
          "output_type": "execute_result",
          "data": {
            "text/plain": [
              "{'bar', 'baz', 'foo', 'quux', 'qux'}"
            ]
          },
          "metadata": {},
          "execution_count": 28
        }
      ]
    },
    {
      "cell_type": "markdown",
      "source": [
        "Intersección"
      ],
      "metadata": {
        "id": "PXRBLruzrPjt"
      }
    },
    {
      "cell_type": "code",
      "source": [
        "x1.intersection(x2)"
      ],
      "metadata": {
        "colab": {
          "base_uri": "https://localhost:8080/"
        },
        "id": "V0kjFyhXrE6A",
        "outputId": "a102aba4-a1fd-4e31-bc44-608fc1b2fcdf"
      },
      "execution_count": null,
      "outputs": [
        {
          "output_type": "execute_result",
          "data": {
            "text/plain": [
              "{'baz'}"
            ]
          },
          "metadata": {},
          "execution_count": 30
        }
      ]
    },
    {
      "cell_type": "code",
      "source": [
        "x1 & x2"
      ],
      "metadata": {
        "colab": {
          "base_uri": "https://localhost:8080/"
        },
        "id": "S-uHTNSErZEs",
        "outputId": "e57975c1-90d0-4f7b-ad84-ba103e807833"
      },
      "execution_count": null,
      "outputs": [
        {
          "output_type": "execute_result",
          "data": {
            "text/plain": [
              "{'baz'}"
            ]
          },
          "metadata": {},
          "execution_count": 31
        }
      ]
    },
    {
      "cell_type": "markdown",
      "source": [
        "Diferencia"
      ],
      "metadata": {
        "id": "RfWWI9siwhrh"
      }
    },
    {
      "cell_type": "code",
      "source": [
        "x1.difference(x2)"
      ],
      "metadata": {
        "colab": {
          "base_uri": "https://localhost:8080/"
        },
        "id": "pCEOUR9Oragx",
        "outputId": "135bc3f9-fb8a-4903-b256-819757b6aa2a"
      },
      "execution_count": null,
      "outputs": [
        {
          "output_type": "execute_result",
          "data": {
            "text/plain": [
              "{'bar', 'foo'}"
            ]
          },
          "metadata": {},
          "execution_count": 32
        }
      ]
    },
    {
      "cell_type": "code",
      "source": [
        "x1 - x2"
      ],
      "metadata": {
        "colab": {
          "base_uri": "https://localhost:8080/"
        },
        "id": "1j4Zxybxwm3X",
        "outputId": "bd5cdfcf-f44d-49d5-fc83-cfa8f133d636"
      },
      "execution_count": null,
      "outputs": [
        {
          "output_type": "execute_result",
          "data": {
            "text/plain": [
              "{'bar', 'foo'}"
            ]
          },
          "metadata": {},
          "execution_count": 33
        }
      ]
    },
    {
      "cell_type": "code",
      "source": [
        "x2 - x1"
      ],
      "metadata": {
        "colab": {
          "base_uri": "https://localhost:8080/"
        },
        "id": "SdTNCBp9wooH",
        "outputId": "c88f27d5-79fa-4e0a-f570-19860563ac7b"
      },
      "execution_count": null,
      "outputs": [
        {
          "output_type": "execute_result",
          "data": {
            "text/plain": [
              "{'quux', 'qux'}"
            ]
          },
          "metadata": {},
          "execution_count": 34
        }
      ]
    },
    {
      "cell_type": "markdown",
      "source": [
        "Diferencia simétrica"
      ],
      "metadata": {
        "id": "zH9a0D7Sw4GW"
      }
    },
    {
      "cell_type": "code",
      "source": [
        "x1.symmetric_difference(x2)"
      ],
      "metadata": {
        "colab": {
          "base_uri": "https://localhost:8080/"
        },
        "id": "XretsR27w_VW",
        "outputId": "3cda6eef-d03e-46b1-f996-44540e832db5"
      },
      "execution_count": null,
      "outputs": [
        {
          "output_type": "execute_result",
          "data": {
            "text/plain": [
              "{'bar', 'foo', 'quux', 'qux'}"
            ]
          },
          "metadata": {},
          "execution_count": 36
        }
      ]
    },
    {
      "cell_type": "code",
      "source": [
        "x1 ^ x2"
      ],
      "metadata": {
        "colab": {
          "base_uri": "https://localhost:8080/"
        },
        "id": "I09LYizWwsY3",
        "outputId": "bb5b094a-4700-4fb5-8dd6-9a8e96bcc872"
      },
      "execution_count": null,
      "outputs": [
        {
          "output_type": "execute_result",
          "data": {
            "text/plain": [
              "{'bar', 'foo', 'quux', 'qux'}"
            ]
          },
          "metadata": {},
          "execution_count": 35
        }
      ]
    },
    {
      "cell_type": "code",
      "source": [],
      "metadata": {
        "id": "WTlnxYxiw-jn"
      },
      "execution_count": null,
      "outputs": []
    }
  ]
}