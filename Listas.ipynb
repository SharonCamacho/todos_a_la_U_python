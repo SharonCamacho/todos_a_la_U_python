{
  "nbformat": 4,
  "nbformat_minor": 0,
  "metadata": {
    "colab": {
      "name": "Listas.ipynb",
      "provenance": [],
      "collapsed_sections": [
        "O62OoGYsIUQS",
        "ijPeUlQZKBVj"
      ],
      "authorship_tag": "ABX9TyOcN/71GTtR31LhtSFja36q",
      "include_colab_link": true
    },
    "kernelspec": {
      "name": "python3",
      "display_name": "Python 3"
    }
  },
  "cells": [
    {
      "cell_type": "markdown",
      "metadata": {
        "id": "view-in-github",
        "colab_type": "text"
      },
      "source": [
        "<a href=\"https://colab.research.google.com/github/SharonCamacho/todos_a_la_U_python/blob/main/Listas.ipynb\" target=\"_parent\"><img src=\"https://colab.research.google.com/assets/colab-badge.svg\" alt=\"Open In Colab\"/></a>"
      ]
    },
    {
      "cell_type": "markdown",
      "metadata": {
        "id": "VnVOc5Xb0L2I"
      },
      "source": [
        "# Listas! 👩‍💻👨‍💻"
      ]
    },
    {
      "cell_type": "markdown",
      "metadata": {
        "id": "Uz4VBiYRoTyx"
      },
      "source": [
        "**¡Importante!**\n",
        "\n",
        "Recuerda que no debes editar este libro de trabajo\n",
        "\n",
        "Desde ***Archivo*** descárgalo o crea una copia en tu drive\n",
        "\n",
        "Cualquier cambio que hagas se guardará en este libro de trabajo"
      ]
    },
    {
      "cell_type": "markdown",
      "metadata": {
        "id": "O62OoGYsIUQS"
      },
      "source": [
        "## Acceder a elementos"
      ]
    },
    {
      "cell_type": "code",
      "metadata": {
        "id": "mmYdySelITgE"
      },
      "source": [
        "ej_lista = [1,2,3,4,5,6,7,8,9,10]"
      ],
      "execution_count": null,
      "outputs": []
    },
    {
      "cell_type": "code",
      "metadata": {
        "id": "vHpbjTV_Jhoj",
        "outputId": "65759cab-215c-4137-a7c0-84996f1b464f",
        "colab": {
          "base_uri": "https://localhost:8080/"
        }
      },
      "source": [
        "# Acceder a un elemento de la lista\n",
        "print(ej_lista[0])   # => 1\n",
        "# Acceder al último elemento de la lista\n",
        "print(ej_lista[-1])  # => 3"
      ],
      "execution_count": null,
      "outputs": [
        {
          "output_type": "stream",
          "text": [
            "1\n",
            "10\n"
          ],
          "name": "stdout"
        }
      ]
    },
    {
      "cell_type": "code",
      "metadata": {
        "id": "YdEzNJt-JxZM",
        "outputId": "1956ed96-ffc8-4d56-e151-7dda95b5b1cb",
        "colab": {
          "base_uri": "https://localhost:8080/",
          "height": 207
        }
      },
      "source": [
        "print(ej_lista[50])\n",
        "#Genera error debido a que el tamaño de la lista es más pequeño y no existe un índice 50\n",
        "#Observar que el tipo de error es de índice: está fuera del rango."
      ],
      "execution_count": null,
      "outputs": [
        {
          "output_type": "error",
          "ename": "IndexError",
          "evalue": "ignored",
          "traceback": [
            "\u001b[0;31m---------------------------------------------------------------------------\u001b[0m",
            "\u001b[0;31mIndexError\u001b[0m                                Traceback (most recent call last)",
            "\u001b[0;32m<ipython-input-3-b340d028fd0b>\u001b[0m in \u001b[0;36m<module>\u001b[0;34m()\u001b[0m\n\u001b[0;32m----> 1\u001b[0;31m \u001b[0mprint\u001b[0m\u001b[0;34m(\u001b[0m\u001b[0mej_lista\u001b[0m\u001b[0;34m[\u001b[0m\u001b[0;36m50\u001b[0m\u001b[0;34m]\u001b[0m\u001b[0;34m)\u001b[0m\u001b[0;34m\u001b[0m\u001b[0;34m\u001b[0m\u001b[0m\n\u001b[0m\u001b[1;32m      2\u001b[0m \u001b[0;31m#Genera error debido a que el tamaño de la lista es más pequeño y no existe un índice 50\u001b[0m\u001b[0;34m\u001b[0m\u001b[0;34m\u001b[0m\u001b[0;34m\u001b[0m\u001b[0m\n\u001b[1;32m      3\u001b[0m \u001b[0;31m#Observar que el tipo de error es de índice: está fuera del rango.\u001b[0m\u001b[0;34m\u001b[0m\u001b[0;34m\u001b[0m\u001b[0;34m\u001b[0m\u001b[0m\n",
            "\u001b[0;31mIndexError\u001b[0m: list index out of range"
          ]
        }
      ]
    },
    {
      "cell_type": "markdown",
      "metadata": {
        "id": "ijPeUlQZKBVj"
      },
      "source": [
        "##### Slice\n",
        "El límite inicial se incluye pero el final no\n",
        "\n",
        "[ )\n",
        "\n",
        "*my_list[start:end:step]*"
      ]
    },
    {
      "cell_type": "code",
      "metadata": {
        "id": "DMgGXI_GKWDS",
        "outputId": "e0f97882-3a24-43c0-a9ab-3ea9b16b356f",
        "colab": {
          "base_uri": "https://localhost:8080/"
        }
      },
      "source": [
        "#Toda la lista\n",
        "ej_lista[:]"
      ],
      "execution_count": null,
      "outputs": [
        {
          "output_type": "execute_result",
          "data": {
            "text/plain": [
              "[1, 2, 3, 4, 5, 6, 7, 8, 9, 10]"
            ]
          },
          "metadata": {
            "tags": []
          },
          "execution_count": 4
        }
      ]
    },
    {
      "cell_type": "code",
      "metadata": {
        "id": "igEbG4cnKK-C",
        "outputId": "c2262f10-8c71-4e85-c01c-51e48818a4ca",
        "colab": {
          "base_uri": "https://localhost:8080/"
        }
      },
      "source": [
        "ej_lista[1:3]"
      ],
      "execution_count": null,
      "outputs": [
        {
          "output_type": "execute_result",
          "data": {
            "text/plain": [
              "[2, 3]"
            ]
          },
          "metadata": {
            "tags": []
          },
          "execution_count": 8
        }
      ]
    },
    {
      "cell_type": "code",
      "metadata": {
        "id": "A4PCvAkqKUCa",
        "outputId": "f574dea0-adbb-4d66-bd73-3f4a4f658f02",
        "colab": {
          "base_uri": "https://localhost:8080/"
        }
      },
      "source": [
        "ej_lista[2:]"
      ],
      "execution_count": null,
      "outputs": [
        {
          "output_type": "execute_result",
          "data": {
            "text/plain": [
              "[3, 4, 5, 6, 7, 8, 9, 10]"
            ]
          },
          "metadata": {
            "tags": []
          },
          "execution_count": 7
        }
      ]
    },
    {
      "cell_type": "code",
      "metadata": {
        "id": "WE5w4wsqKgXj",
        "outputId": "acfa7f04-5612-42c4-fe6a-985936656b8d",
        "colab": {
          "base_uri": "https://localhost:8080/"
        }
      },
      "source": [
        "ej_lista[:3]"
      ],
      "execution_count": null,
      "outputs": [
        {
          "output_type": "execute_result",
          "data": {
            "text/plain": [
              "[1, 2, 3]"
            ]
          },
          "metadata": {
            "tags": []
          },
          "execution_count": 9
        }
      ]
    },
    {
      "cell_type": "code",
      "metadata": {
        "id": "A-m6iOHJKkHL",
        "outputId": "e4fd5a2b-ba7b-4121-f0c3-a39dd10bc31d",
        "colab": {
          "base_uri": "https://localhost:8080/"
        }
      },
      "source": [
        "ej_lista[::2]"
      ],
      "execution_count": null,
      "outputs": [
        {
          "output_type": "execute_result",
          "data": {
            "text/plain": [
              "[1, 3, 5, 7, 9]"
            ]
          },
          "metadata": {
            "tags": []
          },
          "execution_count": 10
        }
      ]
    },
    {
      "cell_type": "code",
      "metadata": {
        "id": "j5cOMuWaKkfM",
        "outputId": "73507126-673f-420a-c2bb-7f81372b6901",
        "colab": {
          "base_uri": "https://localhost:8080/"
        }
      },
      "source": [
        "ej_lista[::-1] "
      ],
      "execution_count": null,
      "outputs": [
        {
          "output_type": "execute_result",
          "data": {
            "text/plain": [
              "[10, 9, 8, 7, 6, 5, 4, 3, 2, 1]"
            ]
          },
          "metadata": {
            "tags": []
          },
          "execution_count": 11
        }
      ]
    },
    {
      "cell_type": "markdown",
      "metadata": {
        "id": "xtD4vXO80ZbE"
      },
      "source": [
        "## Operaciones con listas"
      ]
    },
    {
      "cell_type": "code",
      "metadata": {
        "id": "ICFx6k2R0KJ9"
      },
      "source": [
        "#Lista Vacia\n",
        "li = []"
      ],
      "execution_count": null,
      "outputs": []
    },
    {
      "cell_type": "code",
      "metadata": {
        "id": "X5Wpljfu0iSU",
        "outputId": "8d7a11db-55d5-41ca-c8f1-b8c03db84881",
        "colab": {
          "base_uri": "https://localhost:8080/"
        }
      },
      "source": [
        "#Longitud\n",
        "my_list = [1,2,3,4,5]\n",
        "len(my_list)"
      ],
      "execution_count": null,
      "outputs": [
        {
          "output_type": "execute_result",
          "data": {
            "text/plain": [
              "5"
            ]
          },
          "metadata": {
            "tags": []
          },
          "execution_count": 13
        }
      ]
    },
    {
      "cell_type": "code",
      "metadata": {
        "id": "KdPMqGIK1nfE",
        "outputId": "e7877982-bb8f-4af0-c535-902436e9c44f",
        "colab": {
          "base_uri": "https://localhost:8080/"
        }
      },
      "source": [
        "# Agregar elementos al final de la lista\n",
        "li.append(1)    # [1]\n",
        "li.append(2)    # [1, 2]\n",
        "li.append(4)    # [1, 2, 4]\n",
        "li.append(3)    # [1, 2, 4, 3]\n",
        "print(li)"
      ],
      "execution_count": null,
      "outputs": [
        {
          "output_type": "stream",
          "text": [
            "[1, 2, 4, 3]\n"
          ],
          "name": "stdout"
        }
      ]
    },
    {
      "cell_type": "code",
      "metadata": {
        "id": "s86id1nr2Ykb",
        "outputId": "9b1faf9a-41ff-4af1-8632-e4c1a8f092b6",
        "colab": {
          "base_uri": "https://localhost:8080/"
        }
      },
      "source": [
        "# Inserta un elemento en un índice específico\n",
        "li.insert(1, 'casa')  \n",
        "li"
      ],
      "execution_count": null,
      "outputs": [
        {
          "output_type": "execute_result",
          "data": {
            "text/plain": [
              "[1, 'casa', 2, 4, 3]"
            ]
          },
          "metadata": {
            "tags": []
          },
          "execution_count": 15
        }
      ]
    },
    {
      "cell_type": "code",
      "metadata": {
        "id": "mUHD8LSx1y-F"
      },
      "source": [
        "# Concatenar listas con \"extend()\"\n",
        "other_li = ['a', 'b', 'c']\n",
        "li.extend(other_li)  \n",
        "li"
      ],
      "execution_count": null,
      "outputs": []
    },
    {
      "cell_type": "code",
      "metadata": {
        "id": "Oj_4lzus37f7",
        "outputId": "00bbfb60-1697-4179-e731-0fe757afe8fb",
        "colab": {
          "base_uri": "https://localhost:8080/"
        }
      },
      "source": [
        "# También lo pueden hacer sumando las dos listas\n",
        "other_li_2 = ['y', 'x', 'z']\n",
        "li + other_li_2"
      ],
      "execution_count": null,
      "outputs": [
        {
          "output_type": "execute_result",
          "data": {
            "text/plain": [
              "[1, 'casa', 2, 4, 3, 'a', 'b', 'c', 'y', 'x', 'z']"
            ]
          },
          "metadata": {
            "tags": []
          },
          "execution_count": 17
        }
      ]
    },
    {
      "cell_type": "code",
      "metadata": {
        "id": "G2tiq2lOGwAi",
        "outputId": "bccd9dd6-2bc9-4bc5-ce0a-b9ba8ac68620",
        "colab": {
          "base_uri": "https://localhost:8080/"
        }
      },
      "source": [
        "#Extender multiplicando la lista por un número\n",
        "li_3 = [20,30,40]\n",
        "li_3 = li_3 * 3\n",
        "li_3"
      ],
      "execution_count": null,
      "outputs": [
        {
          "output_type": "execute_result",
          "data": {
            "text/plain": [
              "[20, 30, 40, 20, 30, 40, 20, 30, 40]"
            ]
          },
          "metadata": {
            "tags": []
          },
          "execution_count": 19
        }
      ]
    },
    {
      "cell_type": "code",
      "metadata": {
        "id": "HsLlXEAw3PLj",
        "outputId": "365a69d1-b076-481b-c024-49030d43da87",
        "colab": {
          "base_uri": "https://localhost:8080/"
        }
      },
      "source": [
        "#Eliminar un elmento de la lista\n",
        "del(li_3[1])\n",
        "li_3"
      ],
      "execution_count": null,
      "outputs": [
        {
          "output_type": "execute_result",
          "data": {
            "text/plain": [
              "[20, 40, 20, 30, 40, 20, 30, 40]"
            ]
          },
          "metadata": {
            "tags": []
          },
          "execution_count": 20
        }
      ]
    },
    {
      "cell_type": "code",
      "metadata": {
        "id": "qRAiWSSa3ern",
        "outputId": "24753094-8591-4691-980f-921558694a1e",
        "colab": {
          "base_uri": "https://localhost:8080/"
        }
      },
      "source": [
        "#buscar un elemento y eliminarlo\n",
        "#li_3.remove(20)\n",
        "\n",
        "#Solo elimina el primer elmento que coincida con la condición\n",
        "\n",
        "li_3"
      ],
      "execution_count": null,
      "outputs": [
        {
          "output_type": "execute_result",
          "data": {
            "text/plain": [
              "[20, 40, 20, 30, 40, 20, 30, 40]"
            ]
          },
          "metadata": {
            "tags": []
          },
          "execution_count": 21
        }
      ]
    },
    {
      "cell_type": "code",
      "metadata": {
        "id": "oBdA32tN3xdS",
        "outputId": "a9cab8a1-cbfd-4000-82c1-d57b7ffbc6d8",
        "colab": {
          "base_uri": "https://localhost:8080/"
        }
      },
      "source": [
        "#Eliminar el último elemento de la lista\n",
        "li_3.pop()\n",
        "li_3"
      ],
      "execution_count": null,
      "outputs": [
        {
          "output_type": "execute_result",
          "data": {
            "text/plain": [
              "[20, 40, 20, 30, 40, 20, 30]"
            ]
          },
          "metadata": {
            "tags": []
          },
          "execution_count": 22
        }
      ]
    },
    {
      "cell_type": "code",
      "metadata": {
        "id": "R7NM5r_F3127",
        "outputId": "fcfaed31-cd46-4a22-c9be-3d5b67deea06",
        "colab": {
          "base_uri": "https://localhost:8080/"
        }
      },
      "source": [
        "#Cambiar el orden de los elementos\n",
        "li.reverse()\n",
        "li"
      ],
      "execution_count": null,
      "outputs": [
        {
          "output_type": "execute_result",
          "data": {
            "text/plain": [
              "['c', 'b', 'a', 3, 4, 2, 'casa', 1]"
            ]
          },
          "metadata": {
            "tags": []
          },
          "execution_count": 23
        }
      ]
    },
    {
      "cell_type": "code",
      "metadata": {
        "id": "WoLzrVLv4MS8",
        "outputId": "d1317217-2c45-4891-c7d6-169fac858984",
        "colab": {
          "base_uri": "https://localhost:8080/",
          "height": 225
        }
      },
      "source": [
        "#Ordenar los elementos\n",
        "li.sort()\n",
        "li\n",
        "#Genera error porque no puedo organizar una lista con distintos elementos (numéricos y texto)"
      ],
      "execution_count": null,
      "outputs": [
        {
          "output_type": "error",
          "ename": "TypeError",
          "evalue": "ignored",
          "traceback": [
            "\u001b[0;31m---------------------------------------------------------------------------\u001b[0m",
            "\u001b[0;31mTypeError\u001b[0m                                 Traceback (most recent call last)",
            "\u001b[0;32m<ipython-input-25-20c4462769fa>\u001b[0m in \u001b[0;36m<module>\u001b[0;34m()\u001b[0m\n\u001b[1;32m      1\u001b[0m \u001b[0;31m#Ordenar los elementos\u001b[0m\u001b[0;34m\u001b[0m\u001b[0;34m\u001b[0m\u001b[0;34m\u001b[0m\u001b[0m\n\u001b[0;32m----> 2\u001b[0;31m \u001b[0mli\u001b[0m\u001b[0;34m.\u001b[0m\u001b[0msort\u001b[0m\u001b[0;34m(\u001b[0m\u001b[0;34m)\u001b[0m\u001b[0;34m\u001b[0m\u001b[0;34m\u001b[0m\u001b[0m\n\u001b[0m\u001b[1;32m      3\u001b[0m \u001b[0mli\u001b[0m\u001b[0;34m\u001b[0m\u001b[0;34m\u001b[0m\u001b[0m\n\u001b[1;32m      4\u001b[0m \u001b[0;31m#Genera error porque no puedo organizar una lista con distintos elementos (numéricos y texto)\u001b[0m\u001b[0;34m\u001b[0m\u001b[0;34m\u001b[0m\u001b[0;34m\u001b[0m\u001b[0m\n",
            "\u001b[0;31mTypeError\u001b[0m: '<' not supported between instances of 'int' and 'str'"
          ]
        }
      ]
    },
    {
      "cell_type": "code",
      "metadata": {
        "id": "zf_cYuPY4Q-c",
        "outputId": "d90de162-1da8-4ad9-e73b-4d70642590b2",
        "colab": {
          "base_uri": "https://localhost:8080/"
        }
      },
      "source": [
        "li_num = [1231,3,4654,-5]\n",
        "li_num.sort()\n",
        "li_num.reverse()\n",
        "li_num"
      ],
      "execution_count": null,
      "outputs": [
        {
          "output_type": "execute_result",
          "data": {
            "text/plain": [
              "[4654, 1231, 3, -5]"
            ]
          },
          "metadata": {
            "tags": []
          },
          "execution_count": 26
        }
      ]
    },
    {
      "cell_type": "code",
      "metadata": {
        "id": "Z8uJa2dV4ffb",
        "outputId": "e29eb9c8-a60c-48ff-99ca-f1553b88257b",
        "colab": {
          "base_uri": "https://localhost:8080/"
        }
      },
      "source": [
        "li_letras = ['b', 'a', 'c','Z']\n",
        "li_letras.sort()\n",
        "li_letras"
      ],
      "execution_count": null,
      "outputs": [
        {
          "output_type": "execute_result",
          "data": {
            "text/plain": [
              "['Z', 'a', 'b', 'c']"
            ]
          },
          "metadata": {
            "tags": []
          },
          "execution_count": 27
        }
      ]
    },
    {
      "cell_type": "code",
      "metadata": {
        "id": "9GQziBzkGp4m",
        "outputId": "659a1f7b-daba-45b5-bb72-b4c47fd17205",
        "colab": {
          "base_uri": "https://localhost:8080/",
          "height": 35
        }
      },
      "source": [
        "#Elemento minimo\n",
        "min(li_letras)"
      ],
      "execution_count": null,
      "outputs": [
        {
          "output_type": "execute_result",
          "data": {
            "application/vnd.google.colaboratory.intrinsic+json": {
              "type": "string"
            },
            "text/plain": [
              "'Z'"
            ]
          },
          "metadata": {
            "tags": []
          },
          "execution_count": 28
        }
      ]
    },
    {
      "cell_type": "code",
      "metadata": {
        "id": "hEwzBWV0G5ci",
        "outputId": "3383ff3e-cd1f-48eb-e49e-812deb5e2d35",
        "colab": {
          "base_uri": "https://localhost:8080/",
          "height": 35
        }
      },
      "source": [
        "#Elemento máximo\n",
        "max(li_letras)"
      ],
      "execution_count": null,
      "outputs": [
        {
          "output_type": "execute_result",
          "data": {
            "application/vnd.google.colaboratory.intrinsic+json": {
              "type": "string"
            },
            "text/plain": [
              "'c'"
            ]
          },
          "metadata": {
            "tags": []
          },
          "execution_count": 29
        }
      ]
    },
    {
      "cell_type": "code",
      "metadata": {
        "id": "zGW7Fj38s6AS",
        "outputId": "d21ea18f-1e6d-4f5c-cc98-b78dba164a3e",
        "colab": {
          "base_uri": "https://localhost:8080/"
        }
      },
      "source": [
        "sum(li_num)"
      ],
      "execution_count": null,
      "outputs": [
        {
          "output_type": "execute_result",
          "data": {
            "text/plain": [
              "5883"
            ]
          },
          "metadata": {
            "tags": []
          },
          "execution_count": 30
        }
      ]
    },
    {
      "cell_type": "code",
      "metadata": {
        "id": "I95iHimIG7nK",
        "outputId": "59a30dbb-74ba-4a00-d9f6-872594583360",
        "colab": {
          "base_uri": "https://localhost:8080/"
        }
      },
      "source": [
        "#Buscar el índice de un elemento\n",
        "li_letras.index('b')"
      ],
      "execution_count": null,
      "outputs": [
        {
          "output_type": "execute_result",
          "data": {
            "text/plain": [
              "2"
            ]
          },
          "metadata": {
            "tags": []
          },
          "execution_count": 32
        }
      ]
    },
    {
      "cell_type": "code",
      "metadata": {
        "id": "RGNhX17vtT2K"
      },
      "source": [
        "#Creo una nueva lista con las ciudades de argentina\n",
        "cuidades_argentina = ['buenos aires','salta','tucuman','códoba','misiones','códoba']"
      ],
      "execution_count": null,
      "outputs": []
    },
    {
      "cell_type": "code",
      "metadata": {
        "id": "KIHnaPFRtfXA",
        "outputId": "892387e6-d594-4e5b-ac09-72c0897af6fa",
        "colab": {
          "base_uri": "https://localhost:8080/"
        }
      },
      "source": [
        "#Uso index para saber en qué índice se encuentra un objeto\n",
        "cuidades_argentina.index('códoba')"
      ],
      "execution_count": null,
      "outputs": [
        {
          "output_type": "execute_result",
          "data": {
            "text/plain": [
              "3"
            ]
          },
          "metadata": {
            "tags": []
          },
          "execution_count": 34
        }
      ]
    },
    {
      "cell_type": "code",
      "metadata": {
        "id": "5cWSDUIhtotf",
        "outputId": "42e395b8-495e-4f6c-989f-fe999a698960",
        "colab": {
          "base_uri": "https://localhost:8080/"
        }
      },
      "source": [
        "#Ordeno las ciudades\n",
        "cuidades_argentina.sort()\n",
        "cuidades_argentina"
      ],
      "execution_count": null,
      "outputs": [
        {
          "output_type": "execute_result",
          "data": {
            "text/plain": [
              "['buenos aires', 'códoba', 'códoba', 'misiones', 'salta', 'tucuman']"
            ]
          },
          "metadata": {
            "tags": []
          },
          "execution_count": 35
        }
      ]
    },
    {
      "cell_type": "code",
      "metadata": {
        "id": "ojAn4JfBtvUd",
        "outputId": "d3148d49-7036-4a40-9d48-54ea6bb6c234",
        "colab": {
          "base_uri": "https://localhost:8080/"
        }
      },
      "source": [
        "#Miro el nuevo índice que tine córdoba luego de ordenarla\n",
        "cuidades_argentina.index('códoba')"
      ],
      "execution_count": null,
      "outputs": [
        {
          "output_type": "execute_result",
          "data": {
            "text/plain": [
              "1"
            ]
          },
          "metadata": {
            "tags": []
          },
          "execution_count": 36
        }
      ]
    },
    {
      "cell_type": "code",
      "metadata": {
        "id": "gVvt1uBDHIC7",
        "outputId": "a757082d-1226-44d8-a90a-de5a7144b70a",
        "colab": {
          "base_uri": "https://localhost:8080/"
        }
      },
      "source": [
        "#Cuántas veces está un elementoen la lista\n",
        "cuidades_argentina.count('códoba')"
      ],
      "execution_count": null,
      "outputs": [
        {
          "output_type": "execute_result",
          "data": {
            "text/plain": [
              "2"
            ]
          },
          "metadata": {
            "tags": []
          },
          "execution_count": 37
        }
      ]
    },
    {
      "cell_type": "code",
      "metadata": {
        "id": "4YL8eDBmHtF4",
        "outputId": "5b6f171b-c96a-4b34-daf2-c0106b7e6eed",
        "colab": {
          "base_uri": "https://localhost:8080/"
        }
      },
      "source": [
        "#Validar si un elemento está en la listae \n",
        "print('tucuman' in cuidades_argentina)\n",
        "print('Medellín' in cuidades_argentina)"
      ],
      "execution_count": null,
      "outputs": [
        {
          "output_type": "stream",
          "text": [
            "True\n",
            "False\n"
          ],
          "name": "stdout"
        }
      ]
    },
    {
      "cell_type": "markdown",
      "metadata": {
        "id": "tYx9pdcz1yvk"
      },
      "source": [
        "Gracias! :D"
      ]
    }
  ]
}