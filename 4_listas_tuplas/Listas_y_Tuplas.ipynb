{
  "nbformat": 4,
  "nbformat_minor": 0,
  "metadata": {
    "colab": {
      "provenance": [],
      "authorship_tag": "ABX9TyMRPtfN7IhbZBkG1aTGUH/R",
      "include_colab_link": true
    },
    "kernelspec": {
      "name": "python3",
      "display_name": "Python 3"
    },
    "language_info": {
      "name": "python"
    }
  },
  "cells": [
    {
      "cell_type": "markdown",
      "metadata": {
        "id": "view-in-github",
        "colab_type": "text"
      },
      "source": [
        "<a href=\"https://colab.research.google.com/github/SharonCamacho/todos_a_la_U_python/blob/main/Listas_y_Tuplas.ipynb\" target=\"_parent\"><img src=\"https://colab.research.google.com/assets/colab-badge.svg\" alt=\"Open In Colab\"/></a>"
      ]
    },
    {
      "cell_type": "markdown",
      "source": [
        "Tuplas"
      ],
      "metadata": {
        "id": "IlBjb1Cl3wkk"
      }
    },
    {
      "cell_type": "code",
      "execution_count": null,
      "metadata": {
        "id": "ULGSy2c43RVq"
      },
      "outputs": [],
      "source": [
        "tupla_compras = \"Manzanas\", \"Queso\", \"Carne\""
      ]
    },
    {
      "cell_type": "code",
      "source": [
        "type(tupla_compras)"
      ],
      "metadata": {
        "colab": {
          "base_uri": "https://localhost:8080/"
        },
        "id": "5DZckjfI39kE",
        "outputId": "40ca613f-2f82-4497-9a90-fdd66185ffd4"
      },
      "execution_count": null,
      "outputs": [
        {
          "output_type": "execute_result",
          "data": {
            "text/plain": [
              "tuple"
            ]
          },
          "metadata": {},
          "execution_count": 26
        }
      ]
    },
    {
      "cell_type": "code",
      "source": [
        "type((5+6))"
      ],
      "metadata": {
        "colab": {
          "base_uri": "https://localhost:8080/"
        },
        "id": "-cjv81534Am5",
        "outputId": "8875de34-e3d0-4a74-8b21-154de72f57a0"
      },
      "execution_count": null,
      "outputs": [
        {
          "output_type": "execute_result",
          "data": {
            "text/plain": [
              "int"
            ]
          },
          "metadata": {},
          "execution_count": 7
        }
      ]
    },
    {
      "cell_type": "code",
      "source": [
        "type((5+6,))"
      ],
      "metadata": {
        "colab": {
          "base_uri": "https://localhost:8080/"
        },
        "id": "_WHD48_d4cVj",
        "outputId": "89afc397-5a24-43ca-edd5-624c1ad71d1f"
      },
      "execution_count": null,
      "outputs": [
        {
          "output_type": "execute_result",
          "data": {
            "text/plain": [
              "tuple"
            ]
          },
          "metadata": {},
          "execution_count": 6
        }
      ]
    },
    {
      "cell_type": "code",
      "source": [
        "tupla_compras[1]"
      ],
      "metadata": {
        "colab": {
          "base_uri": "https://localhost:8080/",
          "height": 35
        },
        "id": "dMWoTx_95YZq",
        "outputId": "ef97758f-f4b6-42ae-cc62-379eb1c5e7e5"
      },
      "execution_count": null,
      "outputs": [
        {
          "output_type": "execute_result",
          "data": {
            "text/plain": [
              "'Queso'"
            ],
            "application/vnd.google.colaboratory.intrinsic+json": {
              "type": "string"
            }
          },
          "metadata": {},
          "execution_count": 27
        }
      ]
    },
    {
      "cell_type": "code",
      "source": [
        "for comida in tupla_compras:\n",
        "  print(comida)"
      ],
      "metadata": {
        "colab": {
          "base_uri": "https://localhost:8080/"
        },
        "id": "s44lSTFD5t4C",
        "outputId": "caa2ea42-7645-43d4-8b3c-bdfbfd399ba0"
      },
      "execution_count": null,
      "outputs": [
        {
          "output_type": "stream",
          "name": "stdout",
          "text": [
            "Manzanas\n",
            "Queso\n",
            "Carne\n"
          ]
        }
      ]
    },
    {
      "cell_type": "code",
      "source": [
        "lenguajes = (\"Python\", \"Java\", \"C\", \"C++\")"
      ],
      "metadata": {
        "id": "qzCtUs2t6QKZ"
      },
      "execution_count": null,
      "outputs": []
    },
    {
      "cell_type": "code",
      "source": [
        "for lenguaje in lenguajes:\n",
        "  print(lenguaje)"
      ],
      "metadata": {
        "colab": {
          "base_uri": "https://localhost:8080/"
        },
        "id": "0OwAtDfa6b_C",
        "outputId": "8b42c404-454f-466a-b854-982d55e70f2a"
      },
      "execution_count": null,
      "outputs": [
        {
          "output_type": "stream",
          "name": "stdout",
          "text": [
            "Python\n",
            "Java\n",
            "C\n",
            "C++\n"
          ]
        }
      ]
    },
    {
      "cell_type": "code",
      "source": [
        "len(lenguajes)"
      ],
      "metadata": {
        "colab": {
          "base_uri": "https://localhost:8080/"
        },
        "id": "VMjnH2yZ6eqR",
        "outputId": "29374e2b-5a2a-490d-de3b-727a995c229b"
      },
      "execution_count": null,
      "outputs": [
        {
          "output_type": "execute_result",
          "data": {
            "text/plain": [
              "4"
            ]
          },
          "metadata": {},
          "execution_count": 15
        }
      ]
    },
    {
      "cell_type": "code",
      "source": [
        "Colores = (\"Azul\",\"Rojo\",\"Amarillo\",\"Naranja\",\"Blanco\")\n",
        "len(Colores)"
      ],
      "metadata": {
        "colab": {
          "base_uri": "https://localhost:8080/"
        },
        "id": "wujlUSkI620b",
        "outputId": "328a0214-0a74-4430-c138-44bdbef7ebf3"
      },
      "execution_count": null,
      "outputs": [
        {
          "output_type": "execute_result",
          "data": {
            "text/plain": [
              "5"
            ]
          },
          "metadata": {},
          "execution_count": 16
        }
      ]
    },
    {
      "cell_type": "code",
      "source": [
        "tupla_num = (1,1,1,3,5)"
      ],
      "metadata": {
        "id": "SyYliFdb7GsC"
      },
      "execution_count": null,
      "outputs": []
    },
    {
      "cell_type": "code",
      "source": [
        "tupla_num.count(1)"
      ],
      "metadata": {
        "colab": {
          "base_uri": "https://localhost:8080/"
        },
        "id": "9s2sk4GA7mTK",
        "outputId": "e000ac18-2a00-45b8-ba91-a1e366afa8d6"
      },
      "execution_count": null,
      "outputs": [
        {
          "output_type": "execute_result",
          "data": {
            "text/plain": [
              "3"
            ]
          },
          "metadata": {},
          "execution_count": 18
        }
      ]
    },
    {
      "cell_type": "code",
      "source": [
        "tupla_num.index(5)"
      ],
      "metadata": {
        "colab": {
          "base_uri": "https://localhost:8080/"
        },
        "id": "sHSa6MM27pDh",
        "outputId": "d47d592a-3374-4f55-aef9-49770bc46f13"
      },
      "execution_count": null,
      "outputs": [
        {
          "output_type": "execute_result",
          "data": {
            "text/plain": [
              "4"
            ]
          },
          "metadata": {},
          "execution_count": 20
        }
      ]
    },
    {
      "cell_type": "code",
      "source": [
        "max(tupla_num)"
      ],
      "metadata": {
        "colab": {
          "base_uri": "https://localhost:8080/"
        },
        "id": "VmTWGpnG7vSR",
        "outputId": "10a4aff1-417c-46f4-dc7c-47549cda0c92"
      },
      "execution_count": null,
      "outputs": [
        {
          "output_type": "execute_result",
          "data": {
            "text/plain": [
              "5"
            ]
          },
          "metadata": {},
          "execution_count": 21
        }
      ]
    },
    {
      "cell_type": "code",
      "source": [
        "min(tupla_num)"
      ],
      "metadata": {
        "colab": {
          "base_uri": "https://localhost:8080/"
        },
        "id": "NPCX2kAQ79VM",
        "outputId": "0b5b4248-fc65-4202-f087-8e68b1a66040"
      },
      "execution_count": null,
      "outputs": [
        {
          "output_type": "execute_result",
          "data": {
            "text/plain": [
              "1"
            ]
          },
          "metadata": {},
          "execution_count": 22
        }
      ]
    },
    {
      "cell_type": "markdown",
      "source": [
        "Listas"
      ],
      "metadata": {
        "id": "eVrGJoTE8i0I"
      }
    },
    {
      "cell_type": "code",
      "source": [
        "lista_compras = ['Manzanas', 'Queso', 'Carne']"
      ],
      "metadata": {
        "id": "Xgien0AT7_cc"
      },
      "execution_count": null,
      "outputs": []
    },
    {
      "cell_type": "code",
      "source": [
        "len(lista_compras)"
      ],
      "metadata": {
        "colab": {
          "base_uri": "https://localhost:8080/"
        },
        "id": "Klni3a3n8uHC",
        "outputId": "0994529c-1793-464c-bb1f-a7f85452efe4"
      },
      "execution_count": null,
      "outputs": [
        {
          "output_type": "execute_result",
          "data": {
            "text/plain": [
              "3"
            ]
          },
          "metadata": {},
          "execution_count": 30
        }
      ]
    },
    {
      "cell_type": "code",
      "source": [
        "lista_compras[0]"
      ],
      "metadata": {
        "colab": {
          "base_uri": "https://localhost:8080/",
          "height": 35
        },
        "id": "x_nT-coT9bsD",
        "outputId": "b0c74633-0d6e-486a-f1cf-0cf14d076b0c"
      },
      "execution_count": null,
      "outputs": [
        {
          "output_type": "execute_result",
          "data": {
            "text/plain": [
              "'Manzanas'"
            ],
            "application/vnd.google.colaboratory.intrinsic+json": {
              "type": "string"
            }
          },
          "metadata": {},
          "execution_count": 31
        }
      ]
    },
    {
      "cell_type": "code",
      "source": [
        "lista_compras[-3]"
      ],
      "metadata": {
        "colab": {
          "base_uri": "https://localhost:8080/",
          "height": 35
        },
        "id": "pK2opj2B9gAb",
        "outputId": "640f833f-6a4d-4ac3-a0cf-bfeb60151327"
      },
      "execution_count": null,
      "outputs": [
        {
          "output_type": "execute_result",
          "data": {
            "text/plain": [
              "'Manzanas'"
            ],
            "application/vnd.google.colaboratory.intrinsic+json": {
              "type": "string"
            }
          },
          "metadata": {},
          "execution_count": 32
        }
      ]
    },
    {
      "cell_type": "code",
      "source": [
        "lista_compras[-1]"
      ],
      "metadata": {
        "colab": {
          "base_uri": "https://localhost:8080/",
          "height": 35
        },
        "id": "UHOgqVXI9wGT",
        "outputId": "a028dbab-e1c1-415b-9b72-fe7495b00f2e"
      },
      "execution_count": null,
      "outputs": [
        {
          "output_type": "execute_result",
          "data": {
            "text/plain": [
              "'Carne'"
            ],
            "application/vnd.google.colaboratory.intrinsic+json": {
              "type": "string"
            }
          },
          "metadata": {},
          "execution_count": 33
        }
      ]
    },
    {
      "cell_type": "code",
      "source": [
        "len(lista_compras)"
      ],
      "metadata": {
        "colab": {
          "base_uri": "https://localhost:8080/"
        },
        "id": "NCD6Yd3s90ab",
        "outputId": "259bf115-ce50-4f2b-8b1e-40dadb93882d"
      },
      "execution_count": null,
      "outputs": [
        {
          "output_type": "execute_result",
          "data": {
            "text/plain": [
              "3"
            ]
          },
          "metadata": {},
          "execution_count": 34
        }
      ]
    },
    {
      "cell_type": "code",
      "source": [
        "cena_lista = ['arroz' , 'ensalada' , 'carne' , 'jugo']\n",
        "cena_tupla = ('arroz' , 'ensalada' , 'carne' , 'jugo')"
      ],
      "metadata": {
        "id": "5oBMR4pm-HLD"
      },
      "execution_count": null,
      "outputs": []
    },
    {
      "cell_type": "code",
      "source": [
        "cena_lista[3] = \"agua\""
      ],
      "metadata": {
        "id": "wKjuNkis-jHv"
      },
      "execution_count": null,
      "outputs": []
    },
    {
      "cell_type": "code",
      "source": [
        "cena_lista"
      ],
      "metadata": {
        "colab": {
          "base_uri": "https://localhost:8080/"
        },
        "id": "RTRFiGbc-7tF",
        "outputId": "df3b0bd3-350a-4c0e-d87a-519cb0249863"
      },
      "execution_count": null,
      "outputs": [
        {
          "output_type": "execute_result",
          "data": {
            "text/plain": [
              "['arroz', 'ensalada', 'carne', 'agua']"
            ]
          },
          "metadata": {},
          "execution_count": 38
        }
      ]
    },
    {
      "cell_type": "code",
      "source": [
        "cena_tupla[3] = \"agua\""
      ],
      "metadata": {
        "colab": {
          "base_uri": "https://localhost:8080/",
          "height": 166
        },
        "id": "GOHnLR2k_BlF",
        "outputId": "856900df-3f23-4f1d-ee22-1637608df5ae"
      },
      "execution_count": null,
      "outputs": [
        {
          "output_type": "error",
          "ename": "TypeError",
          "evalue": "ignored",
          "traceback": [
            "\u001b[0;31m---------------------------------------------------------------------------\u001b[0m",
            "\u001b[0;31mTypeError\u001b[0m                                 Traceback (most recent call last)",
            "\u001b[0;32m<ipython-input-39-0bd41b6325f5>\u001b[0m in \u001b[0;36m<module>\u001b[0;34m\u001b[0m\n\u001b[0;32m----> 1\u001b[0;31m \u001b[0mcena_tupla\u001b[0m\u001b[0;34m[\u001b[0m\u001b[0;36m3\u001b[0m\u001b[0;34m]\u001b[0m \u001b[0;34m=\u001b[0m \u001b[0;34m\"agua\"\u001b[0m\u001b[0;34m\u001b[0m\u001b[0;34m\u001b[0m\u001b[0m\n\u001b[0m",
            "\u001b[0;31mTypeError\u001b[0m: 'tuple' object does not support item assignment"
          ]
        }
      ]
    },
    {
      "cell_type": "code",
      "source": [
        "#Podemos converitr las tuplas a listas\n",
        "cena_tupla = list(cena_tupla)\n",
        "cena_tupla"
      ],
      "metadata": {
        "colab": {
          "base_uri": "https://localhost:8080/"
        },
        "id": "hghZsXDp_W5C",
        "outputId": "78c5bedc-b296-435e-8e36-573e15418be7"
      },
      "execution_count": null,
      "outputs": [
        {
          "output_type": "execute_result",
          "data": {
            "text/plain": [
              "['arroz', 'ensalada', 'carne', 'jugo']"
            ]
          },
          "metadata": {},
          "execution_count": 42
        }
      ]
    },
    {
      "cell_type": "code",
      "source": [
        "tuple(cena_tupla)"
      ],
      "metadata": {
        "colab": {
          "base_uri": "https://localhost:8080/"
        },
        "id": "AiCHp8g-_0ep",
        "outputId": "509015f0-463a-49b1-8628-0cc7c80ed9f5"
      },
      "execution_count": null,
      "outputs": [
        {
          "output_type": "execute_result",
          "data": {
            "text/plain": [
              "('arroz', 'ensalada', 'carne', 'jugo')"
            ]
          },
          "metadata": {},
          "execution_count": 45
        }
      ]
    },
    {
      "cell_type": "code",
      "source": [
        "lista_num = [0,1,2,3,4,5,6,7,8,9,10]"
      ],
      "metadata": {
        "id": "FpxJd-b-AXJQ"
      },
      "execution_count": null,
      "outputs": []
    },
    {
      "cell_type": "code",
      "source": [
        "sub_lista = lista_num[:6]"
      ],
      "metadata": {
        "id": "eWLaZbAnC1D0"
      },
      "execution_count": null,
      "outputs": []
    },
    {
      "cell_type": "code",
      "source": [
        "sub_lista"
      ],
      "metadata": {
        "colab": {
          "base_uri": "https://localhost:8080/"
        },
        "id": "e3cs4YltEJPZ",
        "outputId": "284336ed-5bf8-4c69-9c76-b4d2e56d67a6"
      },
      "execution_count": null,
      "outputs": [
        {
          "output_type": "execute_result",
          "data": {
            "text/plain": [
              "[0, 1, 2, 3, 4, 5]"
            ]
          },
          "metadata": {},
          "execution_count": 74
        }
      ]
    },
    {
      "cell_type": "code",
      "source": [
        "lista_num[0:11:5]"
      ],
      "metadata": {
        "colab": {
          "base_uri": "https://localhost:8080/"
        },
        "id": "hXwWNnSiAbMe",
        "outputId": "dd1d147a-296d-4189-dfd3-2fb01721421f"
      },
      "execution_count": null,
      "outputs": [
        {
          "output_type": "execute_result",
          "data": {
            "text/plain": [
              "[0, 5, 10]"
            ]
          },
          "metadata": {},
          "execution_count": 56
        }
      ]
    },
    {
      "cell_type": "code",
      "source": [
        "herramientas = [\"martillo\", \"destornillador\", \"taladro\", \"pulidora\", \n",
        "                \"serrucho\", \"sierra\", \"alicates\"]"
      ],
      "metadata": {
        "id": "rPmvMah6AdSj"
      },
      "execution_count": null,
      "outputs": []
    },
    {
      "cell_type": "code",
      "source": [
        "herramientas[2:5:5]"
      ],
      "metadata": {
        "colab": {
          "base_uri": "https://localhost:8080/"
        },
        "id": "7SCi1ufaCBmG",
        "outputId": "317257a5-330e-4ac5-a74b-980ba6962525"
      },
      "execution_count": null,
      "outputs": [
        {
          "output_type": "execute_result",
          "data": {
            "text/plain": [
              "['taladro']"
            ]
          },
          "metadata": {},
          "execution_count": 61
        }
      ]
    },
    {
      "cell_type": "code",
      "source": [
        "for herramienta in herramientas:\n",
        "  print(herramienta)"
      ],
      "metadata": {
        "colab": {
          "base_uri": "https://localhost:8080/"
        },
        "id": "DGRyKsJ9D191",
        "outputId": "e8bd3816-b1c9-47a8-e2df-8b7f76564d63"
      },
      "execution_count": null,
      "outputs": [
        {
          "output_type": "stream",
          "name": "stdout",
          "text": [
            "martillo\n",
            "destornillador\n",
            "taladro\n",
            "pulidora\n",
            "serrucho\n",
            "sierra\n",
            "alicates\n"
          ]
        }
      ]
    },
    {
      "cell_type": "code",
      "source": [
        "lista_anidada = ['a','b','c',[1,2,3,4],[['perro','cosa'],'gato']]"
      ],
      "metadata": {
        "id": "WOAax3S1Ea10"
      },
      "execution_count": null,
      "outputs": []
    },
    {
      "cell_type": "code",
      "source": [
        "lista_anidada[4][0][0]"
      ],
      "metadata": {
        "colab": {
          "base_uri": "https://localhost:8080/",
          "height": 35
        },
        "id": "SruaTCKZFDC7",
        "outputId": "f9999921-f97b-448c-d45e-566c8059c9f3"
      },
      "execution_count": null,
      "outputs": [
        {
          "output_type": "execute_result",
          "data": {
            "text/plain": [
              "'perro'"
            ],
            "application/vnd.google.colaboratory.intrinsic+json": {
              "type": "string"
            }
          },
          "metadata": {},
          "execution_count": 86
        }
      ]
    },
    {
      "cell_type": "code",
      "source": [
        "lista_1 = [1,2,3,4]\n",
        "lista_2 = lista_1  # lista_2 ahora es igual a lista_1\n"
      ],
      "metadata": {
        "id": "CB4myp04KkI0"
      },
      "execution_count": null,
      "outputs": []
    },
    {
      "cell_type": "code",
      "source": [
        "lista_2[-1] = 100 # el ultimo elemento de la lista_2 ahora es 100\n",
        "print(lista_1, lista_2)"
      ],
      "metadata": {
        "colab": {
          "base_uri": "https://localhost:8080/"
        },
        "id": "SbFFnY_6Kwwy",
        "outputId": "354788fc-561c-4a83-bff2-f7a4f1f2ec4f"
      },
      "execution_count": null,
      "outputs": [
        {
          "output_type": "stream",
          "name": "stdout",
          "text": [
            "[1, 2, 3, 100] [1, 2, 3, 100]\n"
          ]
        }
      ]
    },
    {
      "cell_type": "code",
      "source": [
        "lista_1 = [1,2,3,4]\n",
        "lista_2 = lista_1.copy() # Prestar atención aquí\n",
        "lista_2[-1] = 100\n",
        "print(lista_1, lista_2)"
      ],
      "metadata": {
        "colab": {
          "base_uri": "https://localhost:8080/"
        },
        "id": "UBHnKbgsKlj_",
        "outputId": "fa287614-c082-4a8c-cf68-f237e82485f3"
      },
      "execution_count": null,
      "outputs": [
        {
          "output_type": "stream",
          "name": "stdout",
          "text": [
            "[1, 2, 3, 4] [1, 2, 3, 100]\n"
          ]
        }
      ]
    },
    {
      "cell_type": "code",
      "source": [
        "lista_1.append(\"nuevo_elemento\")"
      ],
      "metadata": {
        "id": "x1Xfy_suL4Xr"
      },
      "execution_count": null,
      "outputs": []
    },
    {
      "cell_type": "code",
      "source": [
        "lista_1"
      ],
      "metadata": {
        "colab": {
          "base_uri": "https://localhost:8080/"
        },
        "id": "C4GdEgWaL9R_",
        "outputId": "67f8184c-7ec8-45a1-b850-ad91ec9410e7"
      },
      "execution_count": null,
      "outputs": [
        {
          "output_type": "execute_result",
          "data": {
            "text/plain": [
              "[1, 2, 3, 4, 'nuevo_elemento']"
            ]
          },
          "metadata": {},
          "execution_count": 93
        }
      ]
    },
    {
      "cell_type": "code",
      "source": [
        "cena = ['arroz' , 'ensalada' , 'carne' , 'jugo']"
      ],
      "metadata": {
        "id": "0UfE7kMWMNuf"
      },
      "execution_count": null,
      "outputs": []
    },
    {
      "cell_type": "code",
      "source": [
        "cena.append(\"postre\")\n"
      ],
      "metadata": {
        "id": "vyIwzKzfMeUi"
      },
      "execution_count": null,
      "outputs": []
    },
    {
      "cell_type": "code",
      "source": [
        "cena"
      ],
      "metadata": {
        "colab": {
          "base_uri": "https://localhost:8080/"
        },
        "id": "bSKSMquEMl24",
        "outputId": "c604b9f6-0578-449d-bdbe-ef94a83f0aa0"
      },
      "execution_count": null,
      "outputs": [
        {
          "output_type": "execute_result",
          "data": {
            "text/plain": [
              "['arroz', 'ensalada', 'carne', 'jugo', 'postre', 'postre', 'postre']"
            ]
          },
          "metadata": {},
          "execution_count": 101
        }
      ]
    },
    {
      "cell_type": "code",
      "source": [
        "lista_numeros = [1,2]\n",
        "lista_numeros.extend([3,4])\n",
        "lista_numeros"
      ],
      "metadata": {
        "colab": {
          "base_uri": "https://localhost:8080/"
        },
        "id": "eaCke3BCMm4H",
        "outputId": "ec7b0c06-5735-4526-bc7f-fb0643621927"
      },
      "execution_count": null,
      "outputs": [
        {
          "output_type": "execute_result",
          "data": {
            "text/plain": [
              "[1, 2, 3, 4]"
            ]
          },
          "metadata": {},
          "execution_count": 97
        }
      ]
    },
    {
      "cell_type": "code",
      "source": [
        "cena.extend([\"café\",\"agua\",\"mazamorra\"])\n",
        "cena"
      ],
      "metadata": {
        "colab": {
          "base_uri": "https://localhost:8080/"
        },
        "id": "31JG-mD2NC6y",
        "outputId": "3fb03a97-84ee-47a7-df71-f78f5714c814"
      },
      "execution_count": null,
      "outputs": [
        {
          "output_type": "execute_result",
          "data": {
            "text/plain": [
              "['arroz',\n",
              " 'ensalada',\n",
              " 'carne',\n",
              " 'jugo',\n",
              " 'postre',\n",
              " 'postre',\n",
              " 'postre',\n",
              " 'café',\n",
              " 'agua']"
            ]
          },
          "metadata": {},
          "execution_count": 102
        }
      ]
    },
    {
      "cell_type": "code",
      "source": [
        "cena.insert(3,\"agua\")\n",
        "cena"
      ],
      "metadata": {
        "colab": {
          "base_uri": "https://localhost:8080/"
        },
        "id": "1mWMCHXFM3Bn",
        "outputId": "5d681c53-8006-4afb-dc51-27ce2a9202dd"
      },
      "execution_count": null,
      "outputs": [
        {
          "output_type": "execute_result",
          "data": {
            "text/plain": [
              "['arroz',\n",
              " 'ensalada',\n",
              " 'carne',\n",
              " 'agua',\n",
              " 'jugo',\n",
              " 'postre',\n",
              " 'postre',\n",
              " 'postre',\n",
              " 'café',\n",
              " 'agua']"
            ]
          },
          "metadata": {},
          "execution_count": 103
        }
      ]
    },
    {
      "cell_type": "code",
      "source": [
        "cena.remove(\"postre\")\n",
        "cena"
      ],
      "metadata": {
        "colab": {
          "base_uri": "https://localhost:8080/"
        },
        "id": "2udwbeReN5-A",
        "outputId": "1883cb51-560a-44b8-fa9c-6d6f277cf3d9"
      },
      "execution_count": null,
      "outputs": [
        {
          "output_type": "execute_result",
          "data": {
            "text/plain": [
              "['arroz',\n",
              " 'ensalada',\n",
              " 'carne',\n",
              " 'agua',\n",
              " 'jugo',\n",
              " 'postre',\n",
              " 'postre',\n",
              " 'café',\n",
              " 'agua']"
            ]
          },
          "metadata": {},
          "execution_count": 104
        }
      ]
    },
    {
      "cell_type": "code",
      "source": [
        "cena.pop()\n",
        "cena"
      ],
      "metadata": {
        "colab": {
          "base_uri": "https://localhost:8080/"
        },
        "id": "zjywGrrYO8RY",
        "outputId": "018805b2-2289-44dd-9128-7be1d9062539"
      },
      "execution_count": null,
      "outputs": [
        {
          "output_type": "execute_result",
          "data": {
            "text/plain": [
              "['arroz', 'ensalada', 'carne', 'agua', 'jugo', 'postre', 'postre', 'café']"
            ]
          },
          "metadata": {},
          "execution_count": 105
        }
      ]
    },
    {
      "cell_type": "code",
      "source": [
        "cena.pop(5)\n",
        "cena"
      ],
      "metadata": {
        "colab": {
          "base_uri": "https://localhost:8080/"
        },
        "id": "wBcD4GeuPRvS",
        "outputId": "8660ff97-3a5b-4788-95af-524889dcef58"
      },
      "execution_count": null,
      "outputs": [
        {
          "output_type": "execute_result",
          "data": {
            "text/plain": [
              "['arroz', 'ensalada', 'carne', 'agua', 'jugo', 'postre', 'café']"
            ]
          },
          "metadata": {},
          "execution_count": 106
        }
      ]
    },
    {
      "cell_type": "code",
      "source": [
        "cena.clear()"
      ],
      "metadata": {
        "id": "5z9J4bQbPgzA"
      },
      "execution_count": null,
      "outputs": []
    },
    {
      "cell_type": "code",
      "source": [
        "cena"
      ],
      "metadata": {
        "colab": {
          "base_uri": "https://localhost:8080/"
        },
        "id": "_oapvdumQLdX",
        "outputId": "d93b788d-5912-4698-90cc-d7b84ae7356f"
      },
      "execution_count": null,
      "outputs": [
        {
          "output_type": "execute_result",
          "data": {
            "text/plain": [
              "[]"
            ]
          },
          "metadata": {},
          "execution_count": 112
        }
      ]
    },
    {
      "cell_type": "code",
      "source": [
        "lista_anidada"
      ],
      "metadata": {
        "colab": {
          "base_uri": "https://localhost:8080/"
        },
        "id": "naiR8LSJQbGb",
        "outputId": "8e01f2ea-43bb-4227-f523-0f417aa7255c"
      },
      "execution_count": null,
      "outputs": [
        {
          "output_type": "execute_result",
          "data": {
            "text/plain": [
              "['a', 'b', 'c', [1, 2], [['perro', 'cosa'], 'gato']]"
            ]
          },
          "metadata": {},
          "execution_count": 119
        }
      ]
    },
    {
      "cell_type": "code",
      "source": [
        "lista_anidada[3].remove(4)"
      ],
      "metadata": {
        "id": "9x5zE-BQQokL"
      },
      "execution_count": null,
      "outputs": []
    },
    {
      "cell_type": "code",
      "source": [
        "lista_anidada[3].pop()"
      ],
      "metadata": {
        "colab": {
          "base_uri": "https://localhost:8080/"
        },
        "id": "sIsVyN9KQsMa",
        "outputId": "c6463712-87ef-4c0a-8848-1085486caf68"
      },
      "execution_count": null,
      "outputs": [
        {
          "output_type": "execute_result",
          "data": {
            "text/plain": [
              "3"
            ]
          },
          "metadata": {},
          "execution_count": 118
        }
      ]
    },
    {
      "cell_type": "code",
      "source": [
        "paises = ['Colombia','Venezuela','México','Panamá','Canadá','Brazil','Chile','Italia','Rusia','china','Japón','Japón','Japón','Japón','Japón']"
      ],
      "metadata": {
        "id": "pyHG9CUgRk-D"
      },
      "execution_count": null,
      "outputs": []
    },
    {
      "cell_type": "code",
      "source": [
        "new = list(set(paises))"
      ],
      "metadata": {
        "id": "eFhxjhCCRmH_"
      },
      "execution_count": null,
      "outputs": []
    },
    {
      "cell_type": "code",
      "source": [
        "list(filter(('Japón').__ne__, paises))"
      ],
      "metadata": {
        "colab": {
          "base_uri": "https://localhost:8080/"
        },
        "id": "_V060BZbRomC",
        "outputId": "571e391f-13e5-44b9-fc6b-0567d193175a"
      },
      "execution_count": null,
      "outputs": [
        {
          "output_type": "execute_result",
          "data": {
            "text/plain": [
              "['Colombia',\n",
              " 'Venezuela',\n",
              " 'México',\n",
              " 'Panamá',\n",
              " 'Canadá',\n",
              " 'Brazil',\n",
              " 'Chile',\n",
              " 'Italia',\n",
              " 'Rusia',\n",
              " 'china']"
            ]
          },
          "metadata": {},
          "execution_count": 126
        }
      ]
    },
    {
      "cell_type": "code",
      "source": [
        "new.sort()"
      ],
      "metadata": {
        "id": "M5XYtd-wSeCu"
      },
      "execution_count": null,
      "outputs": []
    },
    {
      "cell_type": "code",
      "source": [
        "new"
      ],
      "metadata": {
        "colab": {
          "base_uri": "https://localhost:8080/"
        },
        "id": "o_tJ72ueRsV6",
        "outputId": "48caa42b-217c-4571-d078-b773baf2e1dd"
      },
      "execution_count": null,
      "outputs": [
        {
          "output_type": "execute_result",
          "data": {
            "text/plain": [
              "['Brazil',\n",
              " 'Canadá',\n",
              " 'Chile',\n",
              " 'Colombia',\n",
              " 'Italia',\n",
              " 'Japón',\n",
              " 'México',\n",
              " 'Panamá',\n",
              " 'Rusia',\n",
              " 'Venezuela',\n",
              " 'china']"
            ]
          },
          "metadata": {},
          "execution_count": 130
        }
      ]
    },
    {
      "cell_type": "code",
      "source": [
        "list_num_2 = [5,3,100,56,-20,-18]\n",
        "list_num_2.sort()"
      ],
      "metadata": {
        "id": "CYGD0fZdSwIT"
      },
      "execution_count": null,
      "outputs": []
    },
    {
      "cell_type": "code",
      "source": [
        "list_num_2.reverse()"
      ],
      "metadata": {
        "id": "hlE5sXYwS2Is"
      },
      "execution_count": null,
      "outputs": []
    },
    {
      "cell_type": "code",
      "source": [
        "list_num_2"
      ],
      "metadata": {
        "colab": {
          "base_uri": "https://localhost:8080/"
        },
        "id": "orspIO9MS6GB",
        "outputId": "0203199a-25a1-482f-a1c9-7bd4e7557fc2"
      },
      "execution_count": null,
      "outputs": [
        {
          "output_type": "execute_result",
          "data": {
            "text/plain": [
              "[100, 56, 5, 3, -18, -20]"
            ]
          },
          "metadata": {},
          "execution_count": 134
        }
      ]
    },
    {
      "cell_type": "code",
      "source": [
        "lista_mix = [100,20,'hola',False]"
      ],
      "metadata": {
        "id": "05rThgffS9Mv"
      },
      "execution_count": null,
      "outputs": []
    },
    {
      "cell_type": "code",
      "source": [
        "lista_mix.reverse()"
      ],
      "metadata": {
        "id": "lATrKwvvTBKJ"
      },
      "execution_count": null,
      "outputs": []
    },
    {
      "cell_type": "code",
      "source": [
        "lista_mix"
      ],
      "metadata": {
        "colab": {
          "base_uri": "https://localhost:8080/"
        },
        "id": "DaGCiO4RTCvD",
        "outputId": "93a2e194-c150-4763-8307-0018f2efea04"
      },
      "execution_count": null,
      "outputs": [
        {
          "output_type": "execute_result",
          "data": {
            "text/plain": [
              "[False, 'hola', 20, 100]"
            ]
          },
          "metadata": {},
          "execution_count": 138
        }
      ]
    },
    {
      "cell_type": "code",
      "source": [
        "lista_mix.index('hola')"
      ],
      "metadata": {
        "colab": {
          "base_uri": "https://localhost:8080/"
        },
        "id": "Qc6kepFqTmL9",
        "outputId": "26e4976e-3a79-4e2a-e606-cf5292225b94"
      },
      "execution_count": null,
      "outputs": [
        {
          "output_type": "execute_result",
          "data": {
            "text/plain": [
              "1"
            ]
          },
          "metadata": {},
          "execution_count": 140
        }
      ]
    },
    {
      "cell_type": "code",
      "source": [
        "'Holanda' in new"
      ],
      "metadata": {
        "colab": {
          "base_uri": "https://localhost:8080/"
        },
        "id": "xLfnxsOCTqFS",
        "outputId": "c59b5a24-9210-4d47-cb42-5cfe2019cc32"
      },
      "execution_count": null,
      "outputs": [
        {
          "output_type": "execute_result",
          "data": {
            "text/plain": [
              "False"
            ]
          },
          "metadata": {},
          "execution_count": 141
        }
      ]
    },
    {
      "cell_type": "code",
      "source": [
        "'Japón' in new"
      ],
      "metadata": {
        "colab": {
          "base_uri": "https://localhost:8080/"
        },
        "id": "mPA7vUQHT51d",
        "outputId": "ac955e1d-5691-478e-f4a6-9b65b703d7e6"
      },
      "execution_count": null,
      "outputs": [
        {
          "output_type": "execute_result",
          "data": {
            "text/plain": [
              "True"
            ]
          },
          "metadata": {},
          "execution_count": 142
        }
      ]
    },
    {
      "cell_type": "code",
      "source": [
        "tupla_compras"
      ],
      "metadata": {
        "colab": {
          "base_uri": "https://localhost:8080/"
        },
        "id": "tAavq6mZT9Kq",
        "outputId": "4242382a-5060-440c-cb51-481ac3fd75ed"
      },
      "execution_count": null,
      "outputs": [
        {
          "output_type": "execute_result",
          "data": {
            "text/plain": [
              "('Manzanas', 'Queso', 'Carne')"
            ]
          },
          "metadata": {},
          "execution_count": 143
        }
      ]
    },
    {
      "cell_type": "code",
      "source": [
        "'Papaya' in tupla_compras"
      ],
      "metadata": {
        "colab": {
          "base_uri": "https://localhost:8080/"
        },
        "id": "h27UMlZLUJIO",
        "outputId": "1e7dc4e7-30a5-4af6-8226-f078ecef7f18"
      },
      "execution_count": null,
      "outputs": [
        {
          "output_type": "execute_result",
          "data": {
            "text/plain": [
              "False"
            ]
          },
          "metadata": {},
          "execution_count": 144
        }
      ]
    },
    {
      "cell_type": "code",
      "source": [
        "'Manzanas' in tupla_compras"
      ],
      "metadata": {
        "colab": {
          "base_uri": "https://localhost:8080/"
        },
        "id": "AqIjc3LEUM3L",
        "outputId": "b76f69a3-ad8c-45ff-aaa2-e58a97676fb5"
      },
      "execution_count": null,
      "outputs": [
        {
          "output_type": "execute_result",
          "data": {
            "text/plain": [
              "True"
            ]
          },
          "metadata": {},
          "execution_count": 145
        }
      ]
    }
  ]
}