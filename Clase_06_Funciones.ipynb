{
  "nbformat": 4,
  "nbformat_minor": 0,
  "metadata": {
    "colab": {
      "provenance": [],
      "authorship_tag": "ABX9TyO27jgP9f93EmhyNl2anMnP",
      "include_colab_link": true
    },
    "kernelspec": {
      "name": "python3",
      "display_name": "Python 3"
    },
    "language_info": {
      "name": "python"
    }
  },
  "cells": [
    {
      "cell_type": "markdown",
      "metadata": {
        "id": "view-in-github",
        "colab_type": "text"
      },
      "source": [
        "<a href=\"https://colab.research.google.com/github/SharonCamacho/todos_a_la_U_python/blob/main/Clase_06_Funciones.ipynb\" target=\"_parent\"><img src=\"https://colab.research.google.com/assets/colab-badge.svg\" alt=\"Open In Colab\"/></a>"
      ]
    },
    {
      "cell_type": "code",
      "execution_count": 1,
      "metadata": {
        "id": "xNiCHp5bCUYN"
      },
      "outputs": [],
      "source": [
        "#Función con argumento\n",
        "def imprimir_hola_mundo():\n",
        "  return \"Hola mundo\""
      ]
    },
    {
      "cell_type": "code",
      "source": [
        "imprimir_hola_mundo()"
      ],
      "metadata": {
        "colab": {
          "base_uri": "https://localhost:8080/",
          "height": 35
        },
        "id": "UEvKyJ3iFd7j",
        "outputId": "f8fb1d7b-abb2-48ad-99d9-06de6135929c"
      },
      "execution_count": 2,
      "outputs": [
        {
          "output_type": "execute_result",
          "data": {
            "text/plain": [
              "'Hola mundo'"
            ],
            "application/vnd.google.colaboratory.intrinsic+json": {
              "type": "string"
            }
          },
          "metadata": {},
          "execution_count": 2
        }
      ]
    },
    {
      "cell_type": "code",
      "source": [
        "#Función sin argumento\n",
        "def imprimir_hola_mundo_arg(nombre):\n",
        "  return \"Hola mundo \" + nombre"
      ],
      "metadata": {
        "id": "QBL3VH0hFo2k"
      },
      "execution_count": 3,
      "outputs": []
    },
    {
      "cell_type": "code",
      "source": [
        "imprimir_hola_mundo_arg(\"andres\")"
      ],
      "metadata": {
        "colab": {
          "base_uri": "https://localhost:8080/",
          "height": 35
        },
        "id": "fh6tYCrmF_i6",
        "outputId": "1694d11f-0e17-41a0-bfe8-dbbd4226c146"
      },
      "execution_count": 5,
      "outputs": [
        {
          "output_type": "execute_result",
          "data": {
            "text/plain": [
              "'Hola mundo andres'"
            ],
            "application/vnd.google.colaboratory.intrinsic+json": {
              "type": "string"
            }
          },
          "metadata": {},
          "execution_count": 5
        }
      ]
    },
    {
      "cell_type": "markdown",
      "source": [
        "Crear una función que diga} cuál es tu comida favorita:"
      ],
      "metadata": {
        "id": "_Ro4eBFBGW4f"
      }
    },
    {
      "cell_type": "code",
      "source": [
        "def comida_favorita(comida):\n",
        "  return \"tu comida favorita es \" + comida"
      ],
      "metadata": {
        "id": "ONAWvFNXGIDN"
      },
      "execution_count": 6,
      "outputs": []
    },
    {
      "cell_type": "code",
      "source": [
        "def comida_favorita(comida):\n",
        "  comida_fav = \"tu comida favorita es \" + comida\n",
        "  return comida_fav"
      ],
      "metadata": {
        "id": "vY3iDISeT34T"
      },
      "execution_count": null,
      "outputs": []
    },
    {
      "cell_type": "code",
      "source": [
        "def comida_favorita(comida):\n",
        "  comida_fav = \"tu comida favorita es \" + comida\n",
        "  return comida_fav"
      ],
      "metadata": {
        "id": "DZrU89qcVzQM"
      },
      "execution_count": null,
      "outputs": []
    },
    {
      "cell_type": "code",
      "source": [
        "comida_favorita(\"arroz\")"
      ],
      "metadata": {
        "colab": {
          "base_uri": "https://localhost:8080/",
          "height": 35
        },
        "id": "_DhJ5xRQHgis",
        "outputId": "689b014c-1c61-491e-ada5-7077b09b8885"
      },
      "execution_count": 8,
      "outputs": [
        {
          "output_type": "execute_result",
          "data": {
            "text/plain": [
              "'tu comida favorita es arroz'"
            ],
            "application/vnd.google.colaboratory.intrinsic+json": {
              "type": "string"
            }
          },
          "metadata": {},
          "execution_count": 8
        }
      ]
    },
    {
      "cell_type": "code",
      "source": [
        "comida_favorita(\"pasta\")"
      ],
      "metadata": {
        "colab": {
          "base_uri": "https://localhost:8080/",
          "height": 35
        },
        "id": "6CRJf9rrHWCz",
        "outputId": "9d823a13-9ebc-4891-e4a7-1df73b5e039e"
      },
      "execution_count": 9,
      "outputs": [
        {
          "output_type": "execute_result",
          "data": {
            "text/plain": [
              "'tu comida favorita es pasta'"
            ],
            "application/vnd.google.colaboratory.intrinsic+json": {
              "type": "string"
            }
          },
          "metadata": {},
          "execution_count": 9
        }
      ]
    },
    {
      "cell_type": "code",
      "source": [
        "comida_favorita(\"pasta con arroz\")"
      ],
      "metadata": {
        "colab": {
          "base_uri": "https://localhost:8080/",
          "height": 35
        },
        "id": "4tPA0LEtH5Em",
        "outputId": "3be0cba9-df9f-4d7d-a11c-6e6cdf3a305e"
      },
      "execution_count": 10,
      "outputs": [
        {
          "output_type": "execute_result",
          "data": {
            "text/plain": [
              "'tu comida favorita es pasta con arroz'"
            ],
            "application/vnd.google.colaboratory.intrinsic+json": {
              "type": "string"
            }
          },
          "metadata": {},
          "execution_count": 10
        }
      ]
    },
    {
      "cell_type": "code",
      "source": [
        "comida_favorita(\"helado, galletas, chocolate, ensalada de frutas\")"
      ],
      "metadata": {
        "colab": {
          "base_uri": "https://localhost:8080/",
          "height": 35
        },
        "id": "BDTV13ElICzi",
        "outputId": "f2bd3e9b-bbe0-4602-d0cf-4aa6535cd4b8"
      },
      "execution_count": 11,
      "outputs": [
        {
          "output_type": "execute_result",
          "data": {
            "text/plain": [
              "'tu comida favorita es helado, galletas, chocolate, ensalada de frutas'"
            ],
            "application/vnd.google.colaboratory.intrinsic+json": {
              "type": "string"
            }
          },
          "metadata": {},
          "execution_count": 11
        }
      ]
    },
    {
      "cell_type": "code",
      "source": [
        "comida_favorita(\"pasta arroz\")"
      ],
      "metadata": {
        "colab": {
          "base_uri": "https://localhost:8080/",
          "height": 35
        },
        "id": "0-Ssd8U0IQvE",
        "outputId": "7b61d67b-19c2-4673-db82-506174e26aad"
      },
      "execution_count": 13,
      "outputs": [
        {
          "output_type": "execute_result",
          "data": {
            "text/plain": [
              "'tu comida favorita es pasta arroz'"
            ],
            "application/vnd.google.colaboratory.intrinsic+json": {
              "type": "string"
            }
          },
          "metadata": {},
          "execution_count": 13
        }
      ]
    },
    {
      "cell_type": "code",
      "source": [],
      "metadata": {
        "colab": {
          "base_uri": "https://localhost:8080/",
          "height": 53
        },
        "id": "YzRyplnSILhk",
        "outputId": "aaf7564f-c378-4a68-cd21-1a39088d838c"
      },
      "execution_count": 14,
      "outputs": [
        {
          "name": "stdout",
          "output_type": "stream",
          "text": [
            "hola\n"
          ]
        },
        {
          "output_type": "execute_result",
          "data": {
            "text/plain": [
              "'hola'"
            ],
            "application/vnd.google.colaboratory.intrinsic+json": {
              "type": "string"
            }
          },
          "metadata": {},
          "execution_count": 14
        }
      ]
    },
    {
      "cell_type": "code",
      "source": [
        "la_comida = input()\n",
        "la_comida"
      ],
      "metadata": {
        "colab": {
          "base_uri": "https://localhost:8080/"
        },
        "id": "pLksWuuBIqdr",
        "outputId": "8e2ccf5c-5a3b-4dd9-9f74-c2383ef74b0c"
      },
      "execution_count": 15,
      "outputs": [
        {
          "name": "stdout",
          "output_type": "stream",
          "text": [
            "galletas\n"
          ]
        }
      ]
    },
    {
      "cell_type": "code",
      "source": [
        "la_comida = input()\n",
        "comida_fav_mama = comida_favorita(la_comida)\n",
        "print(comida_fav_mama)"
      ],
      "metadata": {
        "colab": {
          "base_uri": "https://localhost:8080/"
        },
        "id": "HrpJYPASI9ys",
        "outputId": "02f5e894-cc79-4e1d-ebf4-1a23aa1de9bf"
      },
      "execution_count": 18,
      "outputs": [
        {
          "output_type": "stream",
          "name": "stdout",
          "text": [
            "café\n",
            "tu comida favorita es café\n"
          ]
        }
      ]
    },
    {
      "cell_type": "code",
      "source": [
        "comida_fav_mama"
      ],
      "metadata": {
        "colab": {
          "base_uri": "https://localhost:8080/",
          "height": 35
        },
        "id": "epFuXi3iJaxe",
        "outputId": "03d16a64-9e50-4493-cf97-9bc5adc1bd38"
      },
      "execution_count": 19,
      "outputs": [
        {
          "output_type": "execute_result",
          "data": {
            "text/plain": [
              "'tu comida favorita es café'"
            ],
            "application/vnd.google.colaboratory.intrinsic+json": {
              "type": "string"
            }
          },
          "metadata": {},
          "execution_count": 19
        }
      ]
    },
    {
      "cell_type": "code",
      "source": [
        "comidas = []"
      ],
      "metadata": {
        "id": "B9IkJKWaJmmQ"
      },
      "execution_count": 20,
      "outputs": []
    },
    {
      "cell_type": "code",
      "source": [
        "comida_agg = comida_favorita(\"hamburguesa\")\n",
        "comidas.append(comida_agg)"
      ],
      "metadata": {
        "id": "YI7ZSpOGJmkW"
      },
      "execution_count": 21,
      "outputs": []
    },
    {
      "cell_type": "code",
      "source": [
        "comida_agg = comida_favorita(\"lentejas\")\n",
        "comidas.append(comida_agg)"
      ],
      "metadata": {
        "id": "B5h3VCt6KC3E"
      },
      "execution_count": 22,
      "outputs": []
    },
    {
      "cell_type": "code",
      "source": [
        "comidas"
      ],
      "metadata": {
        "colab": {
          "base_uri": "https://localhost:8080/"
        },
        "id": "2T37Rg7kKIIn",
        "outputId": "3578cb48-7ad2-41b1-da0f-89f42e11a539"
      },
      "execution_count": 23,
      "outputs": [
        {
          "output_type": "execute_result",
          "data": {
            "text/plain": [
              "['tu comida favorita es hamburguesa', 'tu comida favorita es lentejas']"
            ]
          },
          "metadata": {},
          "execution_count": 23
        }
      ]
    },
    {
      "cell_type": "code",
      "source": [
        "[\"coca-cola\",\"galletas\",\"perro\"]"
      ],
      "metadata": {
        "colab": {
          "base_uri": "https://localhost:8080/"
        },
        "id": "zOq4lxbCU4PJ",
        "outputId": "6172a391-00df-4584-d47d-f94e8a0d045c"
      },
      "execution_count": 40,
      "outputs": [
        {
          "output_type": "execute_result",
          "data": {
            "text/plain": [
              "['coca-cola', 'galletas', 'perro']"
            ]
          },
          "metadata": {},
          "execution_count": 40
        }
      ]
    },
    {
      "cell_type": "code",
      "source": [
        "comida_agg = comida_favorita(\"pizza\")\n",
        "comidas.append(comida_agg)"
      ],
      "metadata": {
        "id": "-VGCq32FKKrd"
      },
      "execution_count": 24,
      "outputs": []
    },
    {
      "cell_type": "code",
      "source": [
        "comidas"
      ],
      "metadata": {
        "colab": {
          "base_uri": "https://localhost:8080/"
        },
        "id": "wPDXruJQKODE",
        "outputId": "238e16f5-6042-4604-fcec-9e974a741fe0"
      },
      "execution_count": 25,
      "outputs": [
        {
          "output_type": "execute_result",
          "data": {
            "text/plain": [
              "['tu comida favorita es hamburguesa',\n",
              " 'tu comida favorita es lentejas',\n",
              " 'tu comida favorita es pizza']"
            ]
          },
          "metadata": {},
          "execution_count": 25
        }
      ]
    },
    {
      "cell_type": "code",
      "source": [
        "comida = input(\"¿Cuál es tu comida favorita?\")\n",
        "\n",
        "def comida_favorita(comida):\n",
        "  return \"la comida favorita tuya es \" + comida\n",
        "\n",
        "comida_favorita(comida)"
      ],
      "metadata": {
        "colab": {
          "base_uri": "https://localhost:8080/",
          "height": 53
        },
        "id": "KA82ogt9K190",
        "outputId": "5f7d106e-8b40-4cbe-e220-649f1036e35a"
      },
      "execution_count": 26,
      "outputs": [
        {
          "name": "stdout",
          "output_type": "stream",
          "text": [
            "¿Cuál es tu comida favorita?alitas bbq\n"
          ]
        },
        {
          "output_type": "execute_result",
          "data": {
            "text/plain": [
              "'la comida favorita tuya es alitas bbq'"
            ],
            "application/vnd.google.colaboratory.intrinsic+json": {
              "type": "string"
            }
          },
          "metadata": {},
          "execution_count": 26
        }
      ]
    },
    {
      "cell_type": "markdown",
      "source": [
        "Requerimiento:\n",
        "\n",
        "quiero una función que me diga cuál es la comida favorita de alguien pero que me guarde la infomación histórica.\n"
      ],
      "metadata": {
        "id": "kWvCNgtVLaUC"
      }
    },
    {
      "cell_type": "code",
      "source": [
        "def comida_favorita(comida,lista_comida):\n",
        "  comida_fav = \"tu comida favorita es \" + comida\n",
        "  lista_comida.append(comida_fav)\n",
        "  return comida_fav"
      ],
      "metadata": {
        "id": "O6lfOCHmLiUV"
      },
      "execution_count": 37,
      "outputs": []
    },
    {
      "cell_type": "code",
      "source": [
        "comida_grupo5 = []"
      ],
      "metadata": {
        "id": "PQmxhj7BNGxd"
      },
      "execution_count": 32,
      "outputs": []
    },
    {
      "cell_type": "code",
      "source": [
        "comida_favorita(\"arroz\", comida_grupo5)"
      ],
      "metadata": {
        "colab": {
          "base_uri": "https://localhost:8080/"
        },
        "id": "BC9cgTgBMiP4",
        "outputId": "c07acd17-3a1f-427d-fb9b-ca283978e634"
      },
      "execution_count": 34,
      "outputs": [
        {
          "output_type": "execute_result",
          "data": {
            "text/plain": [
              "('tu comida favorita es arroz', ['tu comida favorita es arroz'])"
            ]
          },
          "metadata": {},
          "execution_count": 34
        }
      ]
    },
    {
      "cell_type": "code",
      "source": [
        "comida_favorita(\"pasta\", comida_grupo5)"
      ],
      "metadata": {
        "colab": {
          "base_uri": "https://localhost:8080/"
        },
        "id": "KRqQ2gxtMnsc",
        "outputId": "95b8bef5-5bbd-48de-bb5a-b99adfad970d"
      },
      "execution_count": 35,
      "outputs": [
        {
          "output_type": "execute_result",
          "data": {
            "text/plain": [
              "('tu comida favorita es pasta',\n",
              " ['tu comida favorita es arroz', 'tu comida favorita es pasta'])"
            ]
          },
          "metadata": {},
          "execution_count": 35
        }
      ]
    },
    {
      "cell_type": "code",
      "source": [
        "comida_favorita(\"lentejas\", comida_grupo5)"
      ],
      "metadata": {
        "colab": {
          "base_uri": "https://localhost:8080/"
        },
        "id": "HqQf4T4rMqOr",
        "outputId": "e02fd1c8-3a09-42fa-804f-55d5caedb468"
      },
      "execution_count": 36,
      "outputs": [
        {
          "output_type": "execute_result",
          "data": {
            "text/plain": [
              "('tu comida favorita es lentejas',\n",
              " ['tu comida favorita es arroz',\n",
              "  'tu comida favorita es pasta',\n",
              "  'tu comida favorita es lentejas'])"
            ]
          },
          "metadata": {},
          "execution_count": 36
        }
      ]
    },
    {
      "cell_type": "code",
      "source": [
        "comida_favorita(\"oreo\", comida_grupo5)"
      ],
      "metadata": {
        "colab": {
          "base_uri": "https://localhost:8080/",
          "height": 35
        },
        "id": "gMD0ZLbPN27p",
        "outputId": "89d1e958-71fe-4a36-ca42-cb03c2da96d5"
      },
      "execution_count": 38,
      "outputs": [
        {
          "output_type": "execute_result",
          "data": {
            "text/plain": [
              "'tu comida favorita es oreo'"
            ],
            "application/vnd.google.colaboratory.intrinsic+json": {
              "type": "string"
            }
          },
          "metadata": {},
          "execution_count": 38
        }
      ]
    },
    {
      "cell_type": "code",
      "source": [
        "comida_grupo5"
      ],
      "metadata": {
        "colab": {
          "base_uri": "https://localhost:8080/"
        },
        "id": "vWlo3pvNN4xb",
        "outputId": "8d42fbf1-0611-40a1-fdbd-8a3f14b94be8"
      },
      "execution_count": 39,
      "outputs": [
        {
          "output_type": "execute_result",
          "data": {
            "text/plain": [
              "['tu comida favorita es arroz',\n",
              " 'tu comida favorita es pasta',\n",
              " 'tu comida favorita es lentejas',\n",
              " 'tu comida favorita es oreo']"
            ]
          },
          "metadata": {},
          "execution_count": 39
        }
      ]
    }
  ]
}