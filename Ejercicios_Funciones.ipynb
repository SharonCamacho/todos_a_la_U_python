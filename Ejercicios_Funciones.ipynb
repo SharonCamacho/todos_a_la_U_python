{
  "nbformat": 4,
  "nbformat_minor": 0,
  "metadata": {
    "colab": {
      "provenance": [],
      "authorship_tag": "ABX9TyOYGKG+zKM7aH/9nP1Jkf39",
      "include_colab_link": true
    },
    "kernelspec": {
      "name": "python3",
      "display_name": "Python 3"
    },
    "language_info": {
      "name": "python"
    }
  },
  "cells": [
    {
      "cell_type": "markdown",
      "metadata": {
        "id": "view-in-github",
        "colab_type": "text"
      },
      "source": [
        "<a href=\"https://colab.research.google.com/github/SharonCamacho/todos_a_la_U_python/blob/main/Ejercicios_Funciones.ipynb\" target=\"_parent\"><img src=\"https://colab.research.google.com/assets/colab-badge.svg\" alt=\"Open In Colab\"/></a>"
      ]
    },
    {
      "cell_type": "markdown",
      "source": [
        "Crea una función que salude"
      ],
      "metadata": {
        "id": "94LgAn7EbFVj"
      }
    },
    {
      "cell_type": "code",
      "source": [],
      "metadata": {
        "id": "HzPEEHF8bFs6"
      },
      "execution_count": null,
      "outputs": []
    },
    {
      "cell_type": "markdown",
      "source": [
        "Crea un función que salude con el nombre de la persona"
      ],
      "metadata": {
        "id": "sOH0K1f7bJee"
      }
    },
    {
      "cell_type": "code",
      "source": [],
      "metadata": {
        "id": "zf10-ueIbN8_"
      },
      "execution_count": null,
      "outputs": []
    },
    {
      "cell_type": "markdown",
      "source": [
        "Crear una función que sume dos números"
      ],
      "metadata": {
        "id": "t_IzdTwZawfg"
      }
    },
    {
      "cell_type": "code",
      "execution_count": null,
      "metadata": {
        "id": "H334Fk_Fao8n"
      },
      "outputs": [],
      "source": []
    },
    {
      "cell_type": "markdown",
      "source": [
        "Crear una función que tome dos números y me devuela la multiplicación y la resta de estos dos valores"
      ],
      "metadata": {
        "id": "vX-nBjOpa0sr"
      }
    },
    {
      "cell_type": "code",
      "source": [],
      "metadata": {
        "id": "i5bhb93Oa-UJ"
      },
      "execution_count": 1,
      "outputs": []
    }
  ]
}