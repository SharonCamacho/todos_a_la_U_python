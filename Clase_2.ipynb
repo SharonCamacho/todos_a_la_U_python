{
  "nbformat": 4,
  "nbformat_minor": 0,
  "metadata": {
    "colab": {
      "provenance": [],
      "authorship_tag": "ABX9TyMoq/5YMcDWqoC55KBGcl4n",
      "include_colab_link": true
    },
    "kernelspec": {
      "name": "python3",
      "display_name": "Python 3"
    },
    "language_info": {
      "name": "python"
    }
  },
  "cells": [
    {
      "cell_type": "markdown",
      "metadata": {
        "id": "view-in-github",
        "colab_type": "text"
      },
      "source": [
        "<a href=\"https://colab.research.google.com/github/SharonCamacho/todos_a_la_U_python/blob/main/Clase_2.ipynb\" target=\"_parent\"><img src=\"https://colab.research.google.com/assets/colab-badge.svg\" alt=\"Open In Colab\"/></a>"
      ]
    },
    {
      "cell_type": "markdown",
      "source": [
        "**Conversión Explicita**"
      ],
      "metadata": {
        "id": "PNNLNg-c89J-"
      }
    },
    {
      "cell_type": "code",
      "source": [
        "texto = \"Gracias\"\n",
        "niños = 50\n",
        "peso = 55.7\n",
        "animales = \"monos\"\n",
        "mascotas = 6\n",
        "numbers = (1, 2, 3, 4)"
      ],
      "metadata": {
        "id": "dhfwtlJN7rdY"
      },
      "execution_count": null,
      "outputs": []
    },
    {
      "cell_type": "code",
      "source": [
        "#Convierto niños a str\n",
        "niños_str = str(niños)\n",
        "print(niños_str)"
      ],
      "metadata": {
        "colab": {
          "base_uri": "https://localhost:8080/"
        },
        "id": "jsVlIFR0-SD1",
        "outputId": "1a22a0e9-d3c8-48a2-fe80-a078122f711f"
      },
      "execution_count": null,
      "outputs": [
        {
          "output_type": "stream",
          "name": "stdout",
          "text": [
            "50\n"
          ]
        }
      ]
    },
    {
      "cell_type": "code",
      "source": [
        "type(niños_str)"
      ],
      "metadata": {
        "colab": {
          "base_uri": "https://localhost:8080/"
        },
        "id": "A-rh99H_-jTG",
        "outputId": "3324dde9-6f60-4dad-d096-11bcde0ebcb7"
      },
      "execution_count": null,
      "outputs": [
        {
          "output_type": "execute_result",
          "data": {
            "text/plain": [
              "str"
            ]
          },
          "metadata": {},
          "execution_count": 62
        }
      ]
    },
    {
      "cell_type": "code",
      "source": [
        "#Convierto niños a float\n",
        "print(float(niños))"
      ],
      "metadata": {
        "colab": {
          "base_uri": "https://localhost:8080/"
        },
        "id": "zleteSrC-lyV",
        "outputId": "0483a8c3-d1b4-4649-9490-64e605ab7c42"
      },
      "execution_count": null,
      "outputs": [
        {
          "output_type": "stream",
          "name": "stdout",
          "text": [
            "50.0\n"
          ]
        }
      ]
    },
    {
      "cell_type": "code",
      "source": [
        "#Convierto peso a int\n",
        "print(int(peso))"
      ],
      "metadata": {
        "colab": {
          "base_uri": "https://localhost:8080/"
        },
        "id": "4AbKfEn9--WX",
        "outputId": "69418156-668d-40eb-daac-b2d324028566"
      },
      "execution_count": null,
      "outputs": [
        {
          "output_type": "stream",
          "name": "stdout",
          "text": [
            "55\n"
          ]
        }
      ]
    },
    {
      "cell_type": "markdown",
      "source": [
        "# Estructura de control de flujo\n",
        "\n",
        "Condicionales\n",
        "\n",
        "\n",
        "```\n",
        "If condicion:\n",
        "  codigo\n",
        "```\n",
        "\n"
      ],
      "metadata": {
        "id": "peUsWkMIAN4t"
      }
    },
    {
      "cell_type": "code",
      "source": [
        "if 4 < 2:\n",
        "  print(\"Hola\")"
      ],
      "metadata": {
        "id": "IcOL4gBbAUpk"
      },
      "execution_count": null,
      "outputs": []
    },
    {
      "cell_type": "code",
      "source": [
        "profe = \"Carlos\""
      ],
      "metadata": {
        "id": "bawPUPgqA3DF"
      },
      "execution_count": null,
      "outputs": []
    },
    {
      "cell_type": "code",
      "source": [
        "if profe == \"Sharon\":\n",
        "  print(\"Hay clase\")"
      ],
      "metadata": {
        "id": "CpQYhKq0A_KM"
      },
      "execution_count": null,
      "outputs": []
    },
    {
      "cell_type": "code",
      "source": [
        "lluvia = False"
      ],
      "metadata": {
        "id": "o--Os68fB-B7"
      },
      "execution_count": null,
      "outputs": []
    },
    {
      "cell_type": "code",
      "source": [
        "lluvia = False\n",
        "if lluvia == True:\n",
        "  print(\"llevar el paraguas\")\n",
        "else:\n",
        "  print(\"vamos a la piscina\")"
      ],
      "metadata": {
        "colab": {
          "base_uri": "https://localhost:8080/"
        },
        "id": "KvYzN1UAB2Qj",
        "outputId": "8194f88e-0ffc-4c92-c919-50c8e91870a8"
      },
      "execution_count": null,
      "outputs": [
        {
          "output_type": "stream",
          "name": "stdout",
          "text": [
            "vamos a la piscina\n"
          ]
        }
      ]
    },
    {
      "cell_type": "code",
      "source": [
        "galones = 10\n",
        "\n",
        "if galones > 0:\n",
        "  print(\"Nos vamos de paseo\")  "
      ],
      "metadata": {
        "colab": {
          "base_uri": "https://localhost:8080/"
        },
        "id": "6_I4vhjuCWYj",
        "outputId": "196359a3-a9eb-43f9-bdb3-6497da5e9ea6"
      },
      "execution_count": null,
      "outputs": [
        {
          "output_type": "stream",
          "name": "stdout",
          "text": [
            "Nos vamos de paseo\n"
          ]
        }
      ]
    },
    {
      "cell_type": "code",
      "source": [
        "sharon = 30\n",
        "andres = 24\n",
        "natalie_1 = 9\n",
        "natalie_2 = 7\n",
        "papa_sharon = 54\n",
        "\n",
        "persona = natalie_1\n",
        "\n",
        "if persona <= 18:\n",
        "  print(\"menor de edad\")\n",
        "elif persona <= 40:\n",
        "  print(\"adulto jóven\")\n",
        "elif persona <= 60:\n",
        "  print(\"adulto\")\n",
        "else:\n",
        "  print(\"adulto mayor\")"
      ],
      "metadata": {
        "colab": {
          "base_uri": "https://localhost:8080/"
        },
        "id": "zjrSfBl-E6Up",
        "outputId": "734f6877-bcdc-4dbd-b3ae-254a2498d57c"
      },
      "execution_count": null,
      "outputs": [
        {
          "output_type": "stream",
          "name": "stdout",
          "text": [
            "menor de edad\n"
          ]
        }
      ]
    },
    {
      "cell_type": "code",
      "source": [
        "if (persona>0) and (persona<=18):\n",
        "  print(\"menor de edad\")\n",
        "elif (persona>18) and (persona<60):\n",
        "  print(\"adulto\")\n",
        "elif persona<0:\n",
        "  print(\"dato no valido\")\n",
        "else:\n",
        "  print(\"adulto mayor\")"
      ],
      "metadata": {
        "colab": {
          "base_uri": "https://localhost:8080/"
        },
        "id": "zz08xoXHGPIZ",
        "outputId": "2545bbf9-a407-4535-f7d9-8808ccd8ea8a"
      },
      "execution_count": null,
      "outputs": [
        {
          "output_type": "stream",
          "name": "stdout",
          "text": [
            "adulto mayor\n"
          ]
        }
      ]
    },
    {
      "cell_type": "code",
      "source": [
        "print(\"Tiene subsidio\" if persona <=18 else \"no tiene subsidio\")"
      ],
      "metadata": {
        "colab": {
          "base_uri": "https://localhost:8080/"
        },
        "id": "v6e6IJfhIZ82",
        "outputId": "71398e8b-8161-4dfe-a27a-603c0406eb89"
      },
      "execution_count": null,
      "outputs": [
        {
          "output_type": "stream",
          "name": "stdout",
          "text": [
            "Tiene subsidio\n"
          ]
        }
      ]
    },
    {
      "cell_type": "code",
      "source": [
        "age=int(input())\n",
        "x='child' if age<12 else 'teen' if age<20 else 'young' if age<30 else 'middle age' if age<50 else 'old'\n",
        "print(x)"
      ],
      "metadata": {
        "colab": {
          "base_uri": "https://localhost:8080/"
        },
        "id": "x9hmhKTTKo_o",
        "outputId": "4848450a-b9b3-4d05-c7fd-23956170f2be"
      },
      "execution_count": null,
      "outputs": [
        {
          "output_type": "stream",
          "name": "stdout",
          "text": [
            "80\n",
            "old\n"
          ]
        }
      ]
    },
    {
      "cell_type": "markdown",
      "source": [
        "Ciclo for\n",
        "\n",
        "1. Iterar sobre una lista para imprimir sus elementos"
      ],
      "metadata": {
        "id": "eyNFAXrzPJAR"
      }
    },
    {
      "cell_type": "code",
      "source": [
        "mi_lista = ['hola', 10, 22.5, 'profe']\n",
        "\n",
        "for i in mi_lista:\n",
        "    print(i)"
      ],
      "metadata": {
        "colab": {
          "base_uri": "https://localhost:8080/"
        },
        "id": "FAAO7xJzPNQs",
        "outputId": "323815ac-e0fd-4556-8691-4a5d78638205"
      },
      "execution_count": null,
      "outputs": [
        {
          "output_type": "stream",
          "name": "stdout",
          "text": [
            "hola\n",
            "10\n",
            "22.5\n",
            "profe\n"
          ]
        }
      ]
    },
    {
      "cell_type": "code",
      "source": [
        "alumnos = ['Angelica', 'Andres','Luis','Sandra']\n",
        "\n",
        "for i in alumnos:\n",
        "  print(\"Hola \"+ i)"
      ],
      "metadata": {
        "colab": {
          "base_uri": "https://localhost:8080/"
        },
        "id": "LYuzAINHPSu5",
        "outputId": "ef8dc9bb-1484-4d0a-ed2a-b00b6237bbba"
      },
      "execution_count": null,
      "outputs": [
        {
          "output_type": "stream",
          "name": "stdout",
          "text": [
            "Hola Angelica\n",
            "Hola Andres\n",
            "Hola Luis\n",
            "Hola Sandra\n"
          ]
        }
      ]
    },
    {
      "cell_type": "code",
      "source": [
        "numeros = [0,1,2,3,4,5,6,7,8,9,10,11,12,13,14,15,16,17,18,19,20]\n",
        "\n",
        "for i in numeros:\n",
        "  print(i)"
      ],
      "metadata": {
        "colab": {
          "base_uri": "https://localhost:8080/"
        },
        "id": "tpmqvIFeQQHZ",
        "outputId": "9c2a5d79-ba1e-4d47-a55d-1212609ec539"
      },
      "execution_count": null,
      "outputs": [
        {
          "output_type": "stream",
          "name": "stdout",
          "text": [
            "0\n",
            "1\n",
            "2\n",
            "3\n",
            "4\n",
            "5\n",
            "6\n",
            "7\n",
            "8\n",
            "9\n",
            "10\n",
            "11\n",
            "12\n",
            "13\n",
            "14\n",
            "15\n",
            "16\n",
            "17\n",
            "18\n",
            "19\n",
            "20\n"
          ]
        }
      ]
    },
    {
      "cell_type": "code",
      "source": [
        "for i in range(1,21):\n",
        "  print(i)"
      ],
      "metadata": {
        "colab": {
          "base_uri": "https://localhost:8080/"
        },
        "id": "YxjAgnxFRFcp",
        "outputId": "04179810-4680-4800-94cd-dc01f816ba5f"
      },
      "execution_count": null,
      "outputs": [
        {
          "output_type": "stream",
          "name": "stdout",
          "text": [
            "1\n",
            "2\n",
            "3\n",
            "4\n",
            "5\n",
            "6\n",
            "7\n",
            "8\n",
            "9\n",
            "10\n",
            "11\n",
            "12\n",
            "13\n",
            "14\n",
            "15\n",
            "16\n",
            "17\n",
            "18\n",
            "19\n",
            "20\n"
          ]
        }
      ]
    },
    {
      "cell_type": "markdown",
      "source": [
        "Ciclos while"
      ],
      "metadata": {
        "id": "Tqbp_gvYSZuQ"
      }
    },
    {
      "cell_type": "code",
      "source": [
        "alumnos = 5\n",
        "\n",
        "while alumnos > 1:\n",
        "  print(\"dar clase\")\n",
        "  alumnos = alumnos - 1\n",
        "  print(alumnos)"
      ],
      "metadata": {
        "colab": {
          "base_uri": "https://localhost:8080/"
        },
        "id": "UN2GCPUERvuB",
        "outputId": "71b344c9-0351-49e5-c3ac-59c8432a0a15"
      },
      "execution_count": null,
      "outputs": [
        {
          "output_type": "stream",
          "name": "stdout",
          "text": [
            "dar clase\n",
            "4\n",
            "dar clase\n",
            "3\n",
            "dar clase\n",
            "2\n",
            "dar clase\n",
            "1\n"
          ]
        }
      ]
    }
  ]
}