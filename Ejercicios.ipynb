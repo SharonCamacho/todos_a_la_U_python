{
  "nbformat": 4,
  "nbformat_minor": 0,
  "metadata": {
    "colab": {
      "provenance": [],
      "authorship_tag": "ABX9TyMKdARRpG+I3K1qb/LHjjBR",
      "include_colab_link": true
    },
    "kernelspec": {
      "name": "python3",
      "display_name": "Python 3"
    },
    "language_info": {
      "name": "python"
    }
  },
  "cells": [
    {
      "cell_type": "markdown",
      "metadata": {
        "id": "view-in-github",
        "colab_type": "text"
      },
      "source": [
        "<a href=\"https://colab.research.google.com/github/SharonCamacho/todos_a_la_U_python/blob/main/Ejercicios.ipynb\" target=\"_parent\"><img src=\"https://colab.research.google.com/assets/colab-badge.svg\" alt=\"Open In Colab\"/></a>"
      ]
    },
    {
      "cell_type": "markdown",
      "source": [
        "Escribir una rutina que calcule la suma de los números **pares menores que 5** en esta lista. **Pistas:** \n",
        "* Hay muchas formas de hacerlo, si piensas en más de una, mejor. Pero trata de tomar los ejemplos que vimos en este notebook.\n",
        "* El resultado es 20. \n",
        "* Recuerda que puedes **inicializar una variable** en cero, y luego ir modificándola en un **loop**. Hicimos algo así en el notebook de la bitácora anterior con una variable que llamamos `i`"
      ],
      "metadata": {
        "id": "2xPLhihnIE75"
      }
    },
    {
      "cell_type": "code",
      "execution_count": null,
      "metadata": {
        "id": "P1kdwIERHDn9"
      },
      "outputs": [],
      "source": [
        "numeros = [4,5,1,3,5,7,8,1,3,4,1,7,8,1,3,4,5,2,1,2,4,5]"
      ]
    },
    {
      "cell_type": "code",
      "source": [
        "sum = 0\n",
        "\n",
        "for i in numeros:\n",
        "  if i < 5:\n",
        "    if i % 2 == 0:\n",
        "      sum = i + sum"
      ],
      "metadata": {
        "id": "UCTnE83zbXLa"
      },
      "execution_count": null,
      "outputs": []
    },
    {
      "cell_type": "code",
      "source": [
        "sum"
      ],
      "metadata": {
        "id": "6Lczlrskc5ty",
        "outputId": "2bb3b698-52db-4470-df05-779bea8f955d",
        "colab": {
          "base_uri": "https://localhost:8080/"
        }
      },
      "execution_count": null,
      "outputs": [
        {
          "output_type": "execute_result",
          "data": {
            "text/plain": [
              "20"
            ]
          },
          "metadata": {},
          "execution_count": 15
        }
      ]
    },
    {
      "cell_type": "markdown",
      "source": [
        "**Ejercicio**: imprimir el séptimo elemento de `lista_2`. Asegurarte que lo hiciste bien contando los elementos de la lista."
      ],
      "metadata": {
        "id": "h3RIWc6PIai4"
      }
    },
    {
      "cell_type": "code",
      "source": [
        "lista_2 = [5, 6.0,'Un poco de texto',-5, False, 'Más texto', True, 100]"
      ],
      "metadata": {
        "id": "LlzJY1Q3ID9b"
      },
      "execution_count": null,
      "outputs": []
    },
    {
      "cell_type": "markdown",
      "source": [
        "**Ejercicio:** tomando `lista_1` desde `lista_3` (lo que acabamos de hacer en la celda anterior), indexar el tercer elemento de `lista_1`. Debería darte como resultado `True`."
      ],
      "metadata": {
        "id": "H7x-sQo4I5sf"
      }
    },
    {
      "cell_type": "code",
      "source": [
        "lista_1 = [42, 10.7, True, 'Texto']\n",
        "lista_3 = [0, lista_1, 'Mas texto', lista_2]"
      ],
      "metadata": {
        "id": "3VzIhrVhICew"
      },
      "execution_count": null,
      "outputs": []
    },
    {
      "cell_type": "markdown",
      "source": [
        "**Ejercicio**: Define una lista vacia llamada `lista_nueva` y agréguele (`append()`) los elementos `a`, `b` y `c`."
      ],
      "metadata": {
        "id": "6hgtRsqiI8mB"
      }
    },
    {
      "cell_type": "code",
      "source": [
        "a = 8\n",
        "b = 'world'\n",
        "c = [12,24.5,66]"
      ],
      "metadata": {
        "id": "AuPrKo1jI8-3"
      },
      "execution_count": null,
      "outputs": []
    },
    {
      "cell_type": "code",
      "source": [],
      "metadata": {
        "id": "y9tVf234JPMH"
      },
      "execution_count": null,
      "outputs": []
    },
    {
      "cell_type": "markdown",
      "metadata": {
        "id": "YrQ5I9FZ53sq"
      },
      "source": [
        "\n",
        "**Ejercicio:** Si tenemos una lista de números, por ejemplo los primeros diez numeros naturales, e intentamos sumarle un número fijo a la lista, por ejemplo 3, tal vez intentemos algo parecido a lo siguiente: \n",
        "\n"
      ]
    },
    {
      "cell_type": "code",
      "execution_count": null,
      "metadata": {
        "colab": {
          "base_uri": "https://localhost:8080/",
          "height": 178
        },
        "id": "DNaZ9yIy7wXr",
        "outputId": "8112526a-4669-4d57-a9a2-43a1c3cc2899"
      },
      "outputs": [
        {
          "ename": "TypeError",
          "evalue": "can only concatenate list (not \"int\") to list",
          "output_type": "error",
          "traceback": [
            "\u001b[1;31m---------------------------------------------------------------------------\u001b[0m",
            "\u001b[1;31mTypeError\u001b[0m                                 Traceback (most recent call last)",
            "\u001b[1;32m<ipython-input-40-8b044cee7884>\u001b[0m in \u001b[0;36m<module>\u001b[1;34m\u001b[0m\n\u001b[0;32m      1\u001b[0m \u001b[0mnumeros\u001b[0m \u001b[1;33m=\u001b[0m \u001b[1;33m[\u001b[0m\u001b[1;36m0\u001b[0m\u001b[1;33m,\u001b[0m\u001b[1;36m1\u001b[0m\u001b[1;33m,\u001b[0m\u001b[1;36m2\u001b[0m\u001b[1;33m,\u001b[0m\u001b[1;36m3\u001b[0m\u001b[1;33m,\u001b[0m\u001b[1;36m4\u001b[0m\u001b[1;33m,\u001b[0m\u001b[1;36m5\u001b[0m\u001b[1;33m,\u001b[0m\u001b[1;36m6\u001b[0m\u001b[1;33m,\u001b[0m\u001b[1;36m7\u001b[0m\u001b[1;33m,\u001b[0m\u001b[1;36m8\u001b[0m\u001b[1;33m,\u001b[0m\u001b[1;36m9\u001b[0m\u001b[1;33m]\u001b[0m\u001b[1;33m\u001b[0m\u001b[1;33m\u001b[0m\u001b[0m\n\u001b[1;32m----> 2\u001b[1;33m \u001b[0mprint\u001b[0m\u001b[1;33m(\u001b[0m\u001b[0mnumeros\u001b[0m \u001b[1;33m+\u001b[0m \u001b[1;36m3\u001b[0m\u001b[1;33m)\u001b[0m\u001b[1;33m\u001b[0m\u001b[1;33m\u001b[0m\u001b[0m\n\u001b[0m",
            "\u001b[1;31mTypeError\u001b[0m: can only concatenate list (not \"int\") to list"
          ]
        }
      ],
      "source": [
        "numeros = [0,1,2,3,4,5,6,7,8,9]\n",
        "print(numeros + 3)"
      ]
    },
    {
      "cell_type": "markdown",
      "metadata": {
        "id": "z5l3spVJ775e"
      },
      "source": [
        "¡Nos salta un error!  Entonces, te proponemos que resuelvas los siguientes ejercicios:\n",
        "\n",
        "\n",
        "1. Crear una rutina que le sume tres a los diez primeros números naturales y vaya imprimiendo en pantalla a medida que lo hace.\n",
        "2. Crear una rutina que le sume tres a los diez primeros números naturales y guarde los resultados en una nueva lista. Al final, imprimir esa lista en pantalla.\n",
        "\n",
        "Si necesitas unas pistas, puedes clickear [aquí](https://colab.research.google.com/drive/1gfqynizt4gSsitlZELigCL1jIdlYkpmS), ¡pero te recomendamos que antes lo intentes!"
      ]
    },
    {
      "cell_type": "code",
      "execution_count": null,
      "metadata": {
        "id": "Cf4kcg6fCcL8"
      },
      "outputs": [],
      "source": []
    },
    {
      "cell_type": "code",
      "execution_count": null,
      "metadata": {
        "id": "SLQUER3i9LFq"
      },
      "outputs": [],
      "source": [
        "# COMPLETAR\n"
      ]
    },
    {
      "cell_type": "markdown",
      "metadata": {
        "id": "rqAE7lt-DPuV"
      },
      "source": [
        "**Para investigar y pensar**: ¿qué ocurriría si, en lugar de querer sumarle un número a los diez primeros números naturales, quisiéramos hacerlo sobre los primeros cien?¿Y si fuera el primer millón de números naturales?¿La rutina que creaste es fácilmente adaptable? Investiga cómo podrías adaptarla. Pista: `range()`"
      ]
    },
    {
      "cell_type": "code",
      "execution_count": null,
      "metadata": {
        "id": "cW8sqB7iNXX2"
      },
      "outputs": [],
      "source": [
        "#Completar"
      ]
    },
    {
      "cell_type": "markdown",
      "metadata": {
        "id": "565EnFNTVU3V"
      },
      "source": [
        "**Ejercicio 3**: Genere una lista llamada `numerotes` que contenga el cuadrado de cada elemento en la lista `numeritos`."
      ]
    },
    {
      "cell_type": "code",
      "execution_count": null,
      "metadata": {
        "id": "YB0EcpVqV3hY"
      },
      "outputs": [],
      "source": [
        "numeritos = [3,1,5,7,12,10,17,4,22]\n",
        "numerotes = []\n"
      ]
    },
    {
      "cell_type": "markdown",
      "metadata": {
        "id": "2zKZmC9ZN7uO"
      },
      "source": [
        "La operación se llama concatenación. En este caso, de listas."
      ]
    },
    {
      "cell_type": "code",
      "execution_count": null,
      "metadata": {
        "id": "mwZKZSXBEA9A"
      },
      "outputs": [],
      "source": []
    },
    {
      "cell_type": "markdown",
      "metadata": {
        "id": "IR4u7CJok7is"
      },
      "source": [
        "**Ejercicio 5:** sumar todos los elementos de la siguiente lista. **Pistas:**\n",
        "* En un ejemplo anterior definimos una variable `i`, inicializada en cero, que fuimos modificando en cada paso de un `for`. Considerar la opción de definir una variable `suma` y utilizarla de forma parecida."
      ]
    },
    {
      "cell_type": "code",
      "execution_count": null,
      "metadata": {
        "id": "OKSDg3W4k7K-"
      },
      "outputs": [],
      "source": [
        "numeros = [4,8,3,1,-3,3,-5,1,2,-8]\n",
        "\n"
      ]
    },
    {
      "cell_type": "code",
      "execution_count": null,
      "metadata": {
        "id": "fjpBun1wlsCn"
      },
      "outputs": [],
      "source": [
        "numeros = [4,8,3,1,-3,3,-5,1,2,-8]\n"
      ]
    }
  ]
}