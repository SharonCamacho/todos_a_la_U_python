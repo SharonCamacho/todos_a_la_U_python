{
  "nbformat": 4,
  "nbformat_minor": 0,
  "metadata": {
    "colab": {
      "provenance": [],
      "authorship_tag": "ABX9TyMJpXO6S7qOtSTvYQh2MMOG",
      "include_colab_link": true
    },
    "kernelspec": {
      "name": "python3",
      "display_name": "Python 3"
    },
    "language_info": {
      "name": "python"
    }
  },
  "cells": [
    {
      "cell_type": "markdown",
      "metadata": {
        "id": "view-in-github",
        "colab_type": "text"
      },
      "source": [
        "<a href=\"https://colab.research.google.com/github/SharonCamacho/todos_a_la_U_python/blob/main/06_Clase_06_Ejercicios_Funciones_Soluci%C3%B3n.ipynb\" target=\"_parent\"><img src=\"https://colab.research.google.com/assets/colab-badge.svg\" alt=\"Open In Colab\"/></a>"
      ]
    },
    {
      "cell_type": "markdown",
      "source": [
        "Crea una función que salude"
      ],
      "metadata": {
        "id": "94LgAn7EbFVj"
      }
    },
    {
      "cell_type": "code",
      "source": [
        "def saludo():\n",
        "  return \"Hola\""
      ],
      "metadata": {
        "id": "HzPEEHF8bFs6"
      },
      "execution_count": 1,
      "outputs": []
    },
    {
      "cell_type": "code",
      "source": [
        "saludo()"
      ],
      "metadata": {
        "colab": {
          "base_uri": "https://localhost:8080/",
          "height": 35
        },
        "id": "KeSyOpFSHezx",
        "outputId": "859422eb-fd53-43ae-d1f5-bb652593d3bb"
      },
      "execution_count": 2,
      "outputs": [
        {
          "output_type": "execute_result",
          "data": {
            "text/plain": [
              "'Hola'"
            ],
            "application/vnd.google.colaboratory.intrinsic+json": {
              "type": "string"
            }
          },
          "metadata": {},
          "execution_count": 2
        }
      ]
    },
    {
      "cell_type": "markdown",
      "source": [
        "Crea un función que salude con el nombre de la persona"
      ],
      "metadata": {
        "id": "sOH0K1f7bJee"
      }
    },
    {
      "cell_type": "code",
      "source": [
        "def saludo_nom(nombre):\n",
        "  return(\"Hola \"+ nombre +\", Como estas?\")"
      ],
      "metadata": {
        "id": "zf10-ueIbN8_"
      },
      "execution_count": 3,
      "outputs": []
    },
    {
      "cell_type": "code",
      "source": [
        "saludo_nom(\"Andres\")"
      ],
      "metadata": {
        "colab": {
          "base_uri": "https://localhost:8080/",
          "height": 35
        },
        "id": "J1n6U6hkHsgH",
        "outputId": "e4ed2199-4752-48fa-87bb-d2b63f952c6e"
      },
      "execution_count": 4,
      "outputs": [
        {
          "output_type": "execute_result",
          "data": {
            "text/plain": [
              "'Hola Andres, Como estas?'"
            ],
            "application/vnd.google.colaboratory.intrinsic+json": {
              "type": "string"
            }
          },
          "metadata": {},
          "execution_count": 4
        }
      ]
    },
    {
      "cell_type": "markdown",
      "source": [
        "Crear una función que sume dos números"
      ],
      "metadata": {
        "id": "t_IzdTwZawfg"
      }
    },
    {
      "cell_type": "code",
      "execution_count": 6,
      "metadata": {
        "id": "H334Fk_Fao8n"
      },
      "outputs": [],
      "source": [
        "def suma(a, b):\n",
        "  return a + b"
      ]
    },
    {
      "cell_type": "code",
      "source": [
        "a = int(input(\"Ingrese el primer valor \"))\n",
        "b = int(input(\"Ingrese el segundo valor \"))\n",
        "suma(a,b)"
      ],
      "metadata": {
        "colab": {
          "base_uri": "https://localhost:8080/"
        },
        "id": "nsrWbuZ3H-Zg",
        "outputId": "50eea3dd-a65f-4ebd-d51c-2b7e48a21ba8"
      },
      "execution_count": 7,
      "outputs": [
        {
          "name": "stdout",
          "output_type": "stream",
          "text": [
            "Ingrese el primer valor 3\n",
            "Ingrese el segundo valor 5\n"
          ]
        },
        {
          "output_type": "execute_result",
          "data": {
            "text/plain": [
              "8"
            ]
          },
          "metadata": {},
          "execution_count": 7
        }
      ]
    },
    {
      "cell_type": "markdown",
      "source": [
        "Crear una función que tome dos números y me devuela la multiplicación y la resta de estos dos valores"
      ],
      "metadata": {
        "id": "vX-nBjOpa0sr"
      }
    },
    {
      "cell_type": "code",
      "source": [
        "def operacion(a, b):\n",
        "  return a * b, a - b"
      ],
      "metadata": {
        "id": "i5bhb93Oa-UJ"
      },
      "execution_count": 8,
      "outputs": []
    },
    {
      "cell_type": "code",
      "source": [
        "def operacion(a, b):\n",
        "  multi = a * b\n",
        "  resta = a - b\n",
        "  return multi, resta"
      ],
      "metadata": {
        "id": "IHD8VLxXIbXV"
      },
      "execution_count": 9,
      "outputs": []
    },
    {
      "cell_type": "code",
      "source": [
        "num_1 = int(input(\"Ingrese el primer valor \"))\n",
        "num_2 = int(input(\"Ingrese el segundo valor \"))\n",
        "\n",
        "operacion(num_1, num_2)"
      ],
      "metadata": {
        "colab": {
          "base_uri": "https://localhost:8080/"
        },
        "id": "53joxp30Il_5",
        "outputId": "4f5de31d-d33e-478f-845c-59759bff44c4"
      },
      "execution_count": 16,
      "outputs": [
        {
          "name": "stdout",
          "output_type": "stream",
          "text": [
            "Ingrese el primer valor 50\n",
            "Ingrese el segundo valor 20\n"
          ]
        },
        {
          "output_type": "execute_result",
          "data": {
            "text/plain": [
              "(1000, 30)"
            ]
          },
          "metadata": {},
          "execution_count": 16
        }
      ]
    },
    {
      "cell_type": "code",
      "source": [],
      "metadata": {
        "id": "DWlOmN7zJJpt"
      },
      "execution_count": null,
      "outputs": []
    }
  ]
}